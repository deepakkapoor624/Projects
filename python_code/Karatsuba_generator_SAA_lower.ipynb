{
 "metadata": {
  "name": "",
  "signature": "sha256:ed81b07ea4756c59b400c5f83cebce613d0d862975e928030941997b8acbc8a9"
 },
 "nbformat": 3,
 "nbformat_minor": 0,
 "worksheets": [
  {
   "cells": [
    {
     "cell_type": "code",
     "collapsed": false,
     "input": [
      "def shift(n):\n",
      "    print \"module\"+\" \"+\"mul_\"+str(n)+\"(\"\n",
      "    print \"    \"+\"input[\"+str(n-1)+\":0] mul_A,\"\n",
      "    print \"    \"+\"input[\"+str(n-1)+\":0] mul_B,\"\n",
      "    print \"    \"+\"input[\"+str(2*n-1)+\":0] mul_out\"\n",
      "    print \"    \"+\");\"\n",
      "    print \"    wire [\"+str(2*n-1)+\":0]\",\n",
      "    for i in range(0,n):\n",
      "        print \"d\"+str(i),\n",
      "        if(i!=(n-1)):\n",
      "            print \",\",\n",
      "    print \";\"\n",
      "    print\n",
      "    print \"    assign d[\"+str(n-1)+\":0] = mul_A[\"+str(n-1)+\":0];\"\n",
      "    print \"    assign d[\"+str(2*n-1)+\":\"+str(n)+\"]=\"+str(n)+\"'b0;\"\n",
      "    print \n",
      "    print \"    assign d1 = mul_B[0]?d:\"+str(n)+\"'b0;\"\n",
      "    for i in range(1,(n-1)):\n",
      "        print \"    assign d\"+str(i+1)+\" = mul_B[\"+str(i)+\"]?d\"+str(i)+\"^d<<\"+str(i)+\":d\"+str(i)+\";\"\n",
      "    print\n",
      "    print \"    assign mul_out[\"+str(2*n-1)+\":0] = mul_B[\"+str(n-1)+\"]?d\"+str(n-1)+\"^d<<\"+str(n-1)+\":d\"+str(n-1)+\";\"\n",
      "    print\n",
      "    print \"endmodule\"\n",
      "    "
     ],
     "language": "python",
     "metadata": {},
     "outputs": [],
     "prompt_number": 3
    },
    {
     "cell_type": "code",
     "collapsed": false,
     "input": [
      "def Recursive(n):\n",
      "    print \"mul_\"+str(n)+\"_module(\"\n",
      "    print \"    input mul_A[\"+str(n-1)+\":0],\"\n",
      "    print \"    input mul_B[\"+str(n-1)+\":0],\"\n",
      "    print \"    output mul_out_\"+str(n)+\"[\"+str(2*n-1)+\":0]\"\n",
      "    print \"    );\"\n",
      "    print\n",
      "    print \"    wire[\"+str(n-1)+\":0] d0,d1,d3;\"\n",
      "    if (n%2 == 0):\n",
      "        print \"    wire[\"+str(n-1)+\":0] d2\"\n",
      "    else:\n",
      "        print \"    wire[\"+str(n-2)+\":0] d2;\"\n",
      "\n",
      "    print\n",
      "    #code for a0b0\n",
      "    if (n%2 == 0):\n",
      "        print \"    mul_\"+str(n/2)+\"_module mul_0(\"\n",
      "        print \"        .mul_A(mul_A[\"+str(n/2-1)+\":0]),\"\n",
      "        print \"        .mul_B(mul_B[\"+str(n/2-1)+\":0]),\"\n",
      "        print \"        .mul_out(d0)\"\n",
      "        print \"        );\"\n",
      "    else:\n",
      "        print \"    mul_\"+str(n/2+1)+\"_module mul_0(\"\n",
      "        print \"        .mul_A(mul_A[\"+str(n/2)+\":0]),\"\n",
      "        print \"        .mul_B(mul_B[\"+str(n/2)+\":0]),\"\n",
      "        print \"        .mul_out(d0)\"\n",
      "        print \"        );\"\n",
      "    print\n",
      "\n",
      "    #code for a0^a1,b0^b1\n",
      "    if (n%2 == 0):\n",
      "        print \"    mul_\"+str(n/2)+\"_module mul_1(\"\n",
      "        print \"        .mul_A(mul_A[\"+str(n/2-1)+\":0]^mul_A[\"+str(n-1)+\":\"+str(n/2)+\"]),\"\n",
      "        print \"        .mul_B(mul_B[\"+str(n/2-1)+\":0]^mul_B[\"+str(n-1)+\":\"+str(n/2)+\"]),\"\n",
      "        print \"        .mul_out(d1)\"\n",
      "        print \"        );\"\n",
      "\n",
      "    else:\n",
      "        print \"    mul_\"+str(n/2+1)+\"_module mul_1(\"\n",
      "        print \"        .mul_A({mul_A[\"+str(n/2)+\"],mul_A[\"+str(n/2-1)+\":0]^mul_A[\"+str(n-1)+\":\"+str(n/2+1)+\"])},\"\n",
      "        print \"        .mul_B({mul_B[\"+str(n/2)+\"],mul_B[\"+str(n/2-1)+\":0]^mul_B[\"+str(n-1)+\":\"+str(n/2+1)+\"])},\"\n",
      "        print \"        .mul_out(d1)\"\n",
      "        print \"        );\"\n",
      "\n",
      "    print\n",
      "\n",
      "    #code for a1b1\n",
      "    if (n%2 == 0):\n",
      "        print \"    mul_\"+str(n/2)+\"_module mul_2(\"\n",
      "        print \"        .mul_A(mul_A[\"+str(n-1)+\":\"+str(n/2)+\"]),\"\n",
      "        print \"        .mul_B(mul_B[\"+str(n-1)+\":\"+str(n/2)+\"]),\"\n",
      "        print \"        .mul_out(d2)\"\n",
      "        print \"        );\"\n",
      "\n",
      "    else:\n",
      "        print \"    mul_\"+str(n/2)+\"_module mul_2(\"\n",
      "        print \"        .mul_A(mul_A[\"+str(n-1)+\":\"+str(n/2+1)+\"]),\"\n",
      "        print \"        .mul_B(mul_B[\"+str(n-1)+\":\"+str(n/2+1)+\"]),\"\n",
      "        print \"        .mul_out(d2)\"\n",
      "        print \"        );\"\n",
      "\n",
      "    print\n",
      "    print \"    assign d3 = d2 ^ d1 ^ d0;\" \n",
      "    print\n",
      "    if (n%2 == 0):\n",
      "        print \"    assign mul_out_\"+str(n)+\"= {d2[\"+str(n-1)+\":\"+str(n/2)+\"],d2[\"+str(n/2-1)+\":0]^d3[\"+str(n-1)+\":\"+str(n/2)+\"],d0[\"+str(n-1)+\":\"+str(n/2)+\"]^d3[\"+str(n/2-1)+\":0],d0[\"+str(n/2-1)+\":0]};\"\n",
      "    else:\n",
      "        print \"    assign mul_out_\"+str(n)+\"= {d2[\"+str(n-2)+\":\"+str(n/2)+\"],d3[\"+str(n-1)+\"],d2[\"+str(n/2-1)+\":0]^d3[\"+str(n-2)+\":\"+str(n/2+1)+\"],d0[\"+str(n)+\":\"+str(n/2+1)+\"]^d3[\"+str(n/2)+\":0],d0[\"+str(n/2)+\":0]};\"\n",
      "\n",
      "    print\n",
      "    print \"endmodule\"\n",
      "    return;"
     ],
     "language": "python",
     "metadata": {},
     "outputs": [],
     "prompt_number": 4
    },
    {
     "cell_type": "code",
     "collapsed": false,
     "input": [
      "print \"ENTER NUMBER BITS FOR WHICH MULTIPLICATION MODULE HAS TO BE GENERATED:\"\n",
      "n=input()\n",
      "\n",
      "a=[n]\n",
      "b=Karatsuba_array(n,a)\n",
      "for i in range(len(a)):\n",
      "    for j in range(len(a)):\n",
      "        if(a[i]>a[j]):\n",
      "            t=a[i]\n",
      "            a[i]=a[j]\n",
      "            a[j]=t\n",
      "b=[0]\n",
      "k=0;\n",
      "for i in range(len(a)):\n",
      "    if(b[k]!=a[i]):\n",
      "        k=k+1\n",
      "        b.append(a[i])\n",
      "for i in b:\n",
      "    if(i):\n",
      "        if(i>15):\n",
      "            Recursive(i)\n",
      "        else:\n",
      "            shift(i)\n",
      "    "
     ],
     "language": "python",
     "metadata": {},
     "outputs": []
    },
    {
     "cell_type": "code",
     "collapsed": false,
     "input": [
      "array=[1,2,3]\n",
      "array.append(3)\n",
      "print array"
     ],
     "language": "python",
     "metadata": {},
     "outputs": []
    },
    {
     "cell_type": "code",
     "collapsed": false,
     "input": [
      "if(95%2==1 and 95>15):\n",
      "    print \"hello\""
     ],
     "language": "python",
     "metadata": {},
     "outputs": [
      {
       "output_type": "stream",
       "stream": "stdout",
       "text": [
        "hello\n"
       ]
      }
     ],
     "prompt_number": 29
    },
    {
     "cell_type": "code",
     "collapsed": false,
     "input": [
      "from sets import Set\n",
      "array=[1,2,3,4,5,6,6,7,6,5]\n",
      "b=Set(array)\n",
      "print b"
     ],
     "language": "python",
     "metadata": {},
     "outputs": [
      {
       "output_type": "stream",
       "stream": "stdout",
       "text": [
        "Set([1, 2, 3, 4, 5, 6, 7])\n"
       ]
      }
     ],
     "prompt_number": 17
    },
    {
     "cell_type": "code",
     "collapsed": false,
     "input": [
      "range(10,-1,-1)"
     ],
     "language": "python",
     "metadata": {},
     "outputs": [
      {
       "metadata": {},
       "output_type": "pyout",
       "prompt_number": 33,
       "text": [
        "[10, 9, 8, 7, 6, 5, 4, 3, 2, 1, 0]"
       ]
      }
     ],
     "prompt_number": 33
    },
    {
     "cell_type": "code",
     "collapsed": false,
     "input": [],
     "language": "python",
     "metadata": {},
     "outputs": []
    }
   ],
   "metadata": {}
  }
 ]
}
{
 "metadata": {
  "name": "",
  "signature": "sha256:e4dfd086f500c5c00cfea7fccb2d557736cb07fb87bf2d37c6cf6d5845b214b6"
 },
 "nbformat": 3,
 "nbformat_minor": 0,
 "worksheets": [
  {
   "cells": [
    {
     "cell_type": "code",
     "collapsed": false,
     "input": [
      "from sympy import *\n",
      "init_printing()\n",
      "\n",
      "from IPython.display import display\n",
      "\n",
      "x,y = symbols('x, y') \n",
      "a15, a14, a13, a12, a11, a10, a9, a8, a7, a6, a5, a4, a3, a2, a1, a0 = symbols('a15, a14, a13, a12, a11, a10, a9, a8, a7, a6, a5, a4, a3, a2, a1, a0')\n",
      "b15, b14, b13, b12, b11, b10, b9, b8, b7, b6, b5, b4, b3, b2, b1, b0 = symbols('b15, b14, b13, b12, b11, b10, b9, b8, b7, b6, b5, b4, b3, b2, b1, b0')\n",
      "D15, D14, D13, D12, D11, D10, D9, D8, D7, D6, D5, D4, D3, D2, D1, D0 = symbols('D15, D14, D13, D12, D11, D10, D9, D8, D7, D6, D5, D4, D3, D2, D1, D0')\n",
      "\n",
      "A = [a0, a1, a2, a3, a4, a5, a6, a7, a8, a9, a10, a11, a12, a13, a14, a15]\n",
      "B = [b0, b1, b2, b3, b4, b5, b6, b7, b8, b9, b10, b11, b12, b13, b14, b15]\n",
      "\n",
      "def karatsuba2(m , n):\n",
      "    d0 = m[0]*n[0]\n",
      "    d2 = m[1]*n[1]\n",
      "    d1 = (m[0]+m[1])*(n[0]+n[1])+d2+d0\n",
      "    return [d0, d1, d2]\n",
      "\n",
      "def karatsuba4(m , n):\n",
      "    d0 = karatsuba2(m[0:2], n[0:2])\n",
      "    d2 = karatsuba2(m[2:4], n[2:4])\n",
      "    dm = karatsuba2([m[2]+m[0], m[3]+m[1]],[n[2]+n[0], n[3]+n[1]])\n",
      "    d1 = [d0[0]+d2[0]+dm[0], d0[1]+d2[1]+dm[1], d0[2]+d2[2]+dm[2]]\n",
      "    d = [d0[0], d0[1], d0[2] + d1[0], d1[1], d1[2] + d2[0], d2[1], d2[2]]\n",
      "    return d\n",
      "\n",
      "def karatsuba(m , n):\n",
      "    l = len(m)\n",
      "    if l == 4:\n",
      "        d0 = karatsuba2(m[0:l/2], n[0:l/2])\n",
      "        d2 = karatsuba2(m[l/2:l], n[l/2:l])\n",
      "    else:\n",
      "        d0 = karatsuba(m[0:l/2], n[0:l/2])\n",
      "        d2 = karatsuba(m[l/2:l], n[l/2:l])\n",
      "    m1 = []\n",
      "    n1 = []\n",
      "    for i in range (l/2):\n",
      "        m1.append(m[l/2 + i]+m[i])\n",
      "        n1.append(n[l/2 + i]+n[i])\n",
      "       \n",
      "    if l == 4:\n",
      "        dm = karatsuba2(m1, n1)       \n",
      "    else:\n",
      "        dm = karatsuba(m1, n1)\n",
      "   \n",
      "    d1 = []\n",
      "   \n",
      "    dl = len(d0)\n",
      "    for i in range (dl):\n",
      "        d1.append(d0[i]+d2[i]+dm[i])\n",
      "    d = []\n",
      "    for i in range (dl+l):\n",
      "        if i < l/2:\n",
      "            d.append(d0[i])\n",
      "        elif i < dl:\n",
      "            d.append(d0[i] + d1[i-l/2])\n",
      "        elif i < l:           \n",
      "            d.append(d1[i-l/2])\n",
      "        elif i < l/2 + dl:\n",
      "            d.append(d1[i-l/2] + d2[i-l])\n",
      "        elif i < l + dl:           \n",
      "            d.append(d2[i-l])\n",
      "    return d\n"
     ],
     "language": "python",
     "metadata": {},
     "outputs": [],
     "prompt_number": 2
    },
    {
     "cell_type": "code",
     "collapsed": false,
     "input": [
      "d = karatsuba(A[0:8],B[0:8])\n",
      "for i, v in enumerate(d):\n",
      "    print 'd'+str(i)+'='\n",
      "    display(v)"
     ],
     "language": "python",
     "metadata": {},
     "outputs": [
      {
       "output_type": "stream",
       "stream": "stdout",
       "text": [
        "d0=\n"
       ]
      },
      {
       "latex": [
        "$$a_{0} b_{0}$$"
       ],
       "metadata": {},
       "output_type": "display_data",
       "text": [
        "a\u2080\u22c5b\u2080"
       ]
      },
      {
       "output_type": "stream",
       "stream": "stdout",
       "text": [
        "d1=\n"
       ]
      },
      {
       "latex": [
        "$$a_{0} b_{0} + a_{1} b_{1} + \\left(a_{0} + a_{1}\\right) \\left(b_{0} + b_{1}\\right)$$"
       ],
       "metadata": {},
       "output_type": "display_data",
       "text": [
        "a\u2080\u22c5b\u2080 + a\u2081\u22c5b\u2081 + (a\u2080 + a\u2081)\u22c5(b\u2080 + b\u2081)"
       ]
      },
      {
       "output_type": "stream",
       "stream": "stdout",
       "text": [
        "d2=\n"
       ]
      },
      {
       "latex": [
        "$$a_{0} b_{0} + a_{1} b_{1} + a_{2} b_{2} + \\left(a_{0} + a_{2}\\right) \\left(b_{0} + b_{2}\\right)$$"
       ],
       "metadata": {},
       "output_type": "display_data",
       "text": [
        "a\u2080\u22c5b\u2080 + a\u2081\u22c5b\u2081 + a\u2082\u22c5b\u2082 + (a\u2080 + a\u2082)\u22c5(b\u2080 + b\u2082)"
       ]
      },
      {
       "output_type": "stream",
       "stream": "stdout",
       "text": [
        "d3=\n"
       ]
      },
      {
       "latex": [
        "$$a_{0} b_{0} + a_{1} b_{1} + a_{2} b_{2} + a_{3} b_{3} + \\left(a_{0} + a_{1}\\right) \\left(b_{0} + b_{1}\\right) + \\left(a_{0} + a_{2}\\right) \\left(b_{0} + b_{2}\\right) + \\left(a_{1} + a_{3}\\right) \\left(b_{1} + b_{3}\\right) + \\left(a_{2} + a_{3}\\right) \\left(b_{2} + b_{3}\\right) + \\left(a_{0} + a_{1} + a_{2} + a_{3}\\right) \\left(b_{0} + b_{1} + b_{2} + b_{3}\\right)$$"
       ],
       "metadata": {},
       "output_type": "display_data",
       "text": [
        "a\u2080\u22c5b\u2080 + a\u2081\u22c5b\u2081 + a\u2082\u22c5b\u2082 + a\u2083\u22c5b\u2083 + (a\u2080 + a\u2081)\u22c5(b\u2080 + b\u2081) + (a\u2080 + a\u2082)\u22c5(b\u2080 + b\u2082) + (a\n",
        "\u2081 + a\u2083)\u22c5(b\u2081 + b\u2083) + (a\u2082 + a\u2083)\u22c5(b\u2082 + b\u2083) + (a\u2080 + a\u2081 + a\u2082 + a\u2083)\u22c5(b\u2080 + b\u2081 + b\u2082 + \n",
        "b\u2083)"
       ]
      },
      {
       "output_type": "stream",
       "stream": "stdout",
       "text": [
        "d4=\n"
       ]
      },
      {
       "latex": [
        "$$a_{0} b_{0} + a_{1} b_{1} + a_{2} b_{2} + a_{3} b_{3} + a_{4} b_{4} + \\left(a_{0} + a_{4}\\right) \\left(b_{0} + b_{4}\\right) + \\left(a_{1} + a_{3}\\right) \\left(b_{1} + b_{3}\\right)$$"
       ],
       "metadata": {},
       "output_type": "display_data",
       "text": [
        "a\u2080\u22c5b\u2080 + a\u2081\u22c5b\u2081 + a\u2082\u22c5b\u2082 + a\u2083\u22c5b\u2083 + a\u2084\u22c5b\u2084 + (a\u2080 + a\u2084)\u22c5(b\u2080 + b\u2084) + (a\u2081 + a\u2083)\u22c5(b\u2081 + \n",
        "b\u2083)"
       ]
      },
      {
       "output_type": "stream",
       "stream": "stdout",
       "text": [
        "d5=\n"
       ]
      },
      {
       "latex": [
        "$$a_{0} b_{0} + a_{1} b_{1} + a_{2} b_{2} + a_{3} b_{3} + a_{4} b_{4} + a_{5} b_{5} + \\left(a_{0} + a_{1}\\right) \\left(b_{0} + b_{1}\\right) + \\left(a_{0} + a_{4}\\right) \\left(b_{0} + b_{4}\\right) + \\left(a_{1} + a_{5}\\right) \\left(b_{1} + b_{5}\\right) + \\left(a_{2} + a_{3}\\right) \\left(b_{2} + b_{3}\\right) + \\left(a_{4} + a_{5}\\right) \\left(b_{4} + b_{5}\\right) + \\left(a_{0} + a_{1} + a_{4} + a_{5}\\right) \\left(b_{0} + b_{1} + b_{4} + b_{5}\\right)$$"
       ],
       "metadata": {},
       "output_type": "display_data",
       "text": [
        "a\u2080\u22c5b\u2080 + a\u2081\u22c5b\u2081 + a\u2082\u22c5b\u2082 + a\u2083\u22c5b\u2083 + a\u2084\u22c5b\u2084 + a\u2085\u22c5b\u2085 + (a\u2080 + a\u2081)\u22c5(b\u2080 + b\u2081) + (a\u2080 + a\u2084\n",
        ")\u22c5(b\u2080 + b\u2084) + (a\u2081 + a\u2085)\u22c5(b\u2081 + b\u2085) + (a\u2082 + a\u2083)\u22c5(b\u2082 + b\u2083) + (a\u2084 + a\u2085)\u22c5(b\u2084 + b\u2085) \n",
        "+ (a\u2080 + a\u2081 + a\u2084 + a\u2085)\u22c5(b\u2080 + b\u2081 + b\u2084 + b\u2085)"
       ]
      },
      {
       "output_type": "stream",
       "stream": "stdout",
       "text": [
        "d6=\n"
       ]
      },
      {
       "latex": [
        "$$a_{0} b_{0} + a_{1} b_{1} + a_{2} b_{2} + a_{3} b_{3} + a_{4} b_{4} + a_{5} b_{5} + a_{6} b_{6} + \\left(a_{0} + a_{2}\\right) \\left(b_{0} + b_{2}\\right) + \\left(a_{0} + a_{4}\\right) \\left(b_{0} + b_{4}\\right) + \\left(a_{1} + a_{5}\\right) \\left(b_{1} + b_{5}\\right) + \\left(a_{2} + a_{6}\\right) \\left(b_{2} + b_{6}\\right) + \\left(a_{4} + a_{6}\\right) \\left(b_{4} + b_{6}\\right) + \\left(a_{0} + a_{2} + a_{4} + a_{6}\\right) \\left(b_{0} + b_{2} + b_{4} + b_{6}\\right)$$"
       ],
       "metadata": {},
       "output_type": "display_data",
       "text": [
        "a\u2080\u22c5b\u2080 + a\u2081\u22c5b\u2081 + a\u2082\u22c5b\u2082 + a\u2083\u22c5b\u2083 + a\u2084\u22c5b\u2084 + a\u2085\u22c5b\u2085 + a\u2086\u22c5b\u2086 + (a\u2080 + a\u2082)\u22c5(b\u2080 + b\u2082) + \n",
        "(a\u2080 + a\u2084)\u22c5(b\u2080 + b\u2084) + (a\u2081 + a\u2085)\u22c5(b\u2081 + b\u2085) + (a\u2082 + a\u2086)\u22c5(b\u2082 + b\u2086) + (a\u2084 + a\u2086)\u22c5(b\n",
        "\u2084 + b\u2086) + (a\u2080 + a\u2082 + a\u2084 + a\u2086)\u22c5(b\u2080 + b\u2082 + b\u2084 + b\u2086)"
       ]
      },
      {
       "output_type": "stream",
       "stream": "stdout",
       "text": [
        "d7=\n"
       ]
      },
      {
       "latex": [
        "$$a_{0} b_{0} + a_{1} b_{1} + a_{2} b_{2} + a_{3} b_{3} + a_{4} b_{4} + a_{5} b_{5} + a_{6} b_{6} + a_{7} b_{7} + \\left(a_{0} + a_{1}\\right) \\left(b_{0} + b_{1}\\right) + \\left(a_{0} + a_{2}\\right) \\left(b_{0} + b_{2}\\right) + \\left(a_{0} + a_{4}\\right) \\left(b_{0} + b_{4}\\right) + \\left(a_{1} + a_{3}\\right) \\left(b_{1} + b_{3}\\right) + \\left(a_{1} + a_{5}\\right) \\left(b_{1} + b_{5}\\right) + \\left(a_{2} + a_{3}\\right) \\left(b_{2} + b_{3}\\right) + \\left(a_{2} + a_{6}\\right) \\left(b_{2} + b_{6}\\right) + \\left(a_{3} + a_{7}\\right) \\left(b_{3} + b_{7}\\right) + \\left(a_{4} + a_{5}\\right) \\left(b_{4} + b_{5}\\right) + \\left(a_{4} + a_{6}\\right) \\left(b_{4} + b_{6}\\right) + \\left(a_{5} + a_{7}\\right) \\left(b_{5} + b_{7}\\right) + \\left(a_{6} + a_{7}\\right) \\left(b_{6} + b_{7}\\right) + \\left(a_{0} + a_{1} + a_{2} + a_{3}\\right) \\left(b_{0} + b_{1} + b_{2} + b_{3}\\right) + \\left(a_{0} + a_{1} + a_{4} + a_{5}\\right) \\left(b_{0} + b_{1} + b_{4} + b_{5}\\right) + \\left(a_{0} + a_{2} + a_{4} + a_{6}\\right) \\left(b_{0} + b_{2} + b_{4} + b_{6}\\right) + \\left(a_{1} + a_{3} + a_{5} + a_{7}\\right) \\left(b_{1} + b_{3} + b_{5} + b_{7}\\right) + \\left(a_{2} + a_{3} + a_{6} + a_{7}\\right) \\left(b_{2} + b_{3} + b_{6} + b_{7}\\right) + \\left(a_{4} + a_{5} + a_{6} + a_{7}\\right) \\left(b_{4} + b_{5} + b_{6} + b_{7}\\right) + \\left(a_{0} + a_{1} + a_{2} + a_{3} + a_{4} + a_{5} + a_{6} + a_{7}\\right) \\left(b_{0} + b_{1} + b_{2} + b_{3} + b_{4} + b_{5} + b_{6} + b_{7}\\right)$$"
       ],
       "metadata": {},
       "output_type": "display_data",
       "text": [
        "a\u2080\u22c5b\u2080 + a\u2081\u22c5b\u2081 + a\u2082\u22c5b\u2082 + a\u2083\u22c5b\u2083 + a\u2084\u22c5b\u2084 + a\u2085\u22c5b\u2085 + a\u2086\u22c5b\u2086 + a\u2087\u22c5b\u2087 + (a\u2080 + a\u2081)\u22c5(b\u2080 \n",
        "+ b\u2081) + (a\u2080 + a\u2082)\u22c5(b\u2080 + b\u2082) + (a\u2080 + a\u2084)\u22c5(b\u2080 + b\u2084) + (a\u2081 + a\u2083)\u22c5(b\u2081 + b\u2083) + (a\u2081 \n",
        "+ a\u2085)\u22c5(b\u2081 + b\u2085) + (a\u2082 + a\u2083)\u22c5(b\u2082 + b\u2083) + (a\u2082 + a\u2086)\u22c5(b\u2082 + b\u2086) + (a\u2083 + a\u2087)\u22c5(b\u2083 + \n",
        "b\u2087) + (a\u2084 + a\u2085)\u22c5(b\u2084 + b\u2085) + (a\u2084 + a\u2086)\u22c5(b\u2084 + b\u2086) + (a\u2085 + a\u2087)\u22c5(b\u2085 + b\u2087) + (a\u2086 + \n",
        "a\u2087)\u22c5(b\u2086 + b\u2087) + (a\u2080 + a\u2081 + a\u2082 + a\u2083)\u22c5(b\u2080 + b\u2081 + b\u2082 + b\u2083) + (a\u2080 + a\u2081 + a\u2084 + a\u2085)\u22c5\n",
        "(b\u2080 + b\u2081 + b\u2084 + b\u2085) + (a\u2080 + a\u2082 + a\u2084 + a\u2086)\u22c5(b\u2080 + b\u2082 + b\u2084 + b\u2086) + (a\u2081 + a\u2083 + a\u2085 \n",
        "+ a\u2087)\u22c5(b\u2081 + b\u2083 + b\u2085 + b\u2087) + (a\u2082 + a\u2083 + a\u2086 + a\u2087)\u22c5(b\u2082 + b\u2083 + b\u2086 + b\u2087) + (a\u2084 + a\u2085\n",
        " + a\u2086 + a\u2087)\u22c5(b\u2084 + b\u2085 + b\u2086 + b\u2087) + (a\u2080 + a\u2081 + a\u2082 + a\u2083 + a\u2084 + a\u2085 + a\u2086 + a\u2087)\u22c5(b\u2080 \n",
        "+ b\u2081 + b\u2082 + b\u2083 + b\u2084 + b\u2085 + b\u2086 + b\u2087)"
       ]
      },
      {
       "output_type": "stream",
       "stream": "stdout",
       "text": [
        "d8=\n"
       ]
      },
      {
       "latex": [
        "$$a_{1} b_{1} + a_{2} b_{2} + a_{3} b_{3} + a_{4} b_{4} + a_{5} b_{5} + a_{6} b_{6} + a_{7} b_{7} + \\left(a_{1} + a_{3}\\right) \\left(b_{1} + b_{3}\\right) + \\left(a_{1} + a_{5}\\right) \\left(b_{1} + b_{5}\\right) + \\left(a_{2} + a_{6}\\right) \\left(b_{2} + b_{6}\\right) + \\left(a_{3} + a_{7}\\right) \\left(b_{3} + b_{7}\\right) + \\left(a_{5} + a_{7}\\right) \\left(b_{5} + b_{7}\\right) + \\left(a_{1} + a_{3} + a_{5} + a_{7}\\right) \\left(b_{1} + b_{3} + b_{5} + b_{7}\\right)$$"
       ],
       "metadata": {},
       "output_type": "display_data",
       "text": [
        "a\u2081\u22c5b\u2081 + a\u2082\u22c5b\u2082 + a\u2083\u22c5b\u2083 + a\u2084\u22c5b\u2084 + a\u2085\u22c5b\u2085 + a\u2086\u22c5b\u2086 + a\u2087\u22c5b\u2087 + (a\u2081 + a\u2083)\u22c5(b\u2081 + b\u2083) + \n",
        "(a\u2081 + a\u2085)\u22c5(b\u2081 + b\u2085) + (a\u2082 + a\u2086)\u22c5(b\u2082 + b\u2086) + (a\u2083 + a\u2087)\u22c5(b\u2083 + b\u2087) + (a\u2085 + a\u2087)\u22c5(b\n",
        "\u2085 + b\u2087) + (a\u2081 + a\u2083 + a\u2085 + a\u2087)\u22c5(b\u2081 + b\u2083 + b\u2085 + b\u2087)"
       ]
      },
      {
       "output_type": "stream",
       "stream": "stdout",
       "text": [
        "d9=\n"
       ]
      },
      {
       "latex": [
        "$$a_{2} b_{2} + a_{3} b_{3} + a_{4} b_{4} + a_{5} b_{5} + a_{6} b_{6} + a_{7} b_{7} + \\left(a_{2} + a_{3}\\right) \\left(b_{2} + b_{3}\\right) + \\left(a_{2} + a_{6}\\right) \\left(b_{2} + b_{6}\\right) + \\left(a_{3} + a_{7}\\right) \\left(b_{3} + b_{7}\\right) + \\left(a_{4} + a_{5}\\right) \\left(b_{4} + b_{5}\\right) + \\left(a_{6} + a_{7}\\right) \\left(b_{6} + b_{7}\\right) + \\left(a_{2} + a_{3} + a_{6} + a_{7}\\right) \\left(b_{2} + b_{3} + b_{6} + b_{7}\\right)$$"
       ],
       "metadata": {},
       "output_type": "display_data",
       "text": [
        "a\u2082\u22c5b\u2082 + a\u2083\u22c5b\u2083 + a\u2084\u22c5b\u2084 + a\u2085\u22c5b\u2085 + a\u2086\u22c5b\u2086 + a\u2087\u22c5b\u2087 + (a\u2082 + a\u2083)\u22c5(b\u2082 + b\u2083) + (a\u2082 + a\u2086\n",
        ")\u22c5(b\u2082 + b\u2086) + (a\u2083 + a\u2087)\u22c5(b\u2083 + b\u2087) + (a\u2084 + a\u2085)\u22c5(b\u2084 + b\u2085) + (a\u2086 + a\u2087)\u22c5(b\u2086 + b\u2087) \n",
        "+ (a\u2082 + a\u2083 + a\u2086 + a\u2087)\u22c5(b\u2082 + b\u2083 + b\u2086 + b\u2087)"
       ]
      },
      {
       "output_type": "stream",
       "stream": "stdout",
       "text": [
        "d10=\n"
       ]
      },
      {
       "latex": [
        "$$a_{3} b_{3} + a_{4} b_{4} + a_{5} b_{5} + a_{6} b_{6} + a_{7} b_{7} + \\left(a_{3} + a_{7}\\right) \\left(b_{3} + b_{7}\\right) + \\left(a_{4} + a_{6}\\right) \\left(b_{4} + b_{6}\\right)$$"
       ],
       "metadata": {},
       "output_type": "display_data",
       "text": [
        "a\u2083\u22c5b\u2083 + a\u2084\u22c5b\u2084 + a\u2085\u22c5b\u2085 + a\u2086\u22c5b\u2086 + a\u2087\u22c5b\u2087 + (a\u2083 + a\u2087)\u22c5(b\u2083 + b\u2087) + (a\u2084 + a\u2086)\u22c5(b\u2084 + \n",
        "b\u2086)"
       ]
      },
      {
       "output_type": "stream",
       "stream": "stdout",
       "text": [
        "d11=\n"
       ]
      },
      {
       "latex": [
        "$$a_{4} b_{4} + a_{5} b_{5} + a_{6} b_{6} + a_{7} b_{7} + \\left(a_{4} + a_{5}\\right) \\left(b_{4} + b_{5}\\right) + \\left(a_{4} + a_{6}\\right) \\left(b_{4} + b_{6}\\right) + \\left(a_{5} + a_{7}\\right) \\left(b_{5} + b_{7}\\right) + \\left(a_{6} + a_{7}\\right) \\left(b_{6} + b_{7}\\right) + \\left(a_{4} + a_{5} + a_{6} + a_{7}\\right) \\left(b_{4} + b_{5} + b_{6} + b_{7}\\right)$$"
       ],
       "metadata": {},
       "output_type": "display_data",
       "text": [
        "a\u2084\u22c5b\u2084 + a\u2085\u22c5b\u2085 + a\u2086\u22c5b\u2086 + a\u2087\u22c5b\u2087 + (a\u2084 + a\u2085)\u22c5(b\u2084 + b\u2085) + (a\u2084 + a\u2086)\u22c5(b\u2084 + b\u2086) + (a\n",
        "\u2085 + a\u2087)\u22c5(b\u2085 + b\u2087) + (a\u2086 + a\u2087)\u22c5(b\u2086 + b\u2087) + (a\u2084 + a\u2085 + a\u2086 + a\u2087)\u22c5(b\u2084 + b\u2085 + b\u2086 + \n",
        "b\u2087)"
       ]
      },
      {
       "output_type": "stream",
       "stream": "stdout",
       "text": [
        "d12=\n"
       ]
      },
      {
       "latex": [
        "$$a_{5} b_{5} + a_{6} b_{6} + a_{7} b_{7} + \\left(a_{5} + a_{7}\\right) \\left(b_{5} + b_{7}\\right)$$"
       ],
       "metadata": {},
       "output_type": "display_data",
       "text": [
        "a\u2085\u22c5b\u2085 + a\u2086\u22c5b\u2086 + a\u2087\u22c5b\u2087 + (a\u2085 + a\u2087)\u22c5(b\u2085 + b\u2087)"
       ]
      },
      {
       "output_type": "stream",
       "stream": "stdout",
       "text": [
        "d13=\n"
       ]
      },
      {
       "latex": [
        "$$a_{6} b_{6} + a_{7} b_{7} + \\left(a_{6} + a_{7}\\right) \\left(b_{6} + b_{7}\\right)$$"
       ],
       "metadata": {},
       "output_type": "display_data",
       "text": [
        "a\u2086\u22c5b\u2086 + a\u2087\u22c5b\u2087 + (a\u2086 + a\u2087)\u22c5(b\u2086 + b\u2087)"
       ]
      },
      {
       "output_type": "stream",
       "stream": "stdout",
       "text": [
        "d14=\n"
       ]
      },
      {
       "latex": [
        "$$a_{7} b_{7}$$"
       ],
       "metadata": {},
       "output_type": "display_data",
       "text": [
        "a\u2087\u22c5b\u2087"
       ]
      }
     ],
     "prompt_number": 2
    },
    {
     "cell_type": "code",
     "collapsed": false,
     "input": [
      "d = karatsuba(A[0:4],B[0:4])\n",
      "for i, v in enumerate(d):\n",
      "    print 'd'+str(i)+'='\n",
      "    display(v)"
     ],
     "language": "python",
     "metadata": {},
     "outputs": [
      {
       "output_type": "stream",
       "stream": "stdout",
       "text": [
        "d0=\n"
       ]
      },
      {
       "latex": [
        "$$a_{0} b_{0}$$"
       ],
       "metadata": {},
       "output_type": "display_data",
       "png": "[encoded data removed]",
       "text": [
        "a\u2080\u22c5b\u2080"
       ]
      },
      {
       "output_type": "stream",
       "stream": "stdout",
       "text": [
        "d1=\n"
       ]
      },
      {
       "latex": [
        "$$a_{0} b_{0} + a_{1} b_{1} + \\left(a_{0} + a_{1}\\right) \\left(b_{0} + b_{1}\\right)$$"
       ],
       "metadata": {},
       "output_type": "display_data",
       "png": "[encoded data removed]",
       "text": [
        "a\u2080\u22c5b\u2080 + a\u2081\u22c5b\u2081 + (a\u2080 + a\u2081)\u22c5(b\u2080 + b\u2081)"
       ]
      },
      {
       "output_type": "stream",
       "stream": "stdout",
       "text": [
        "d2=\n"
       ]
      },
      {
       "latex": [
        "$$a_{0} b_{0} + a_{1} b_{1} + a_{2} b_{2} + \\left(a_{0} + a_{2}\\right) \\left(b_{0} + b_{2}\\right)$$"
       ],
       "metadata": {},
       "output_type": "display_data",
       "png": "[encoded data removed]",
       "text": [
        "a\u2080\u22c5b\u2080 + a\u2081\u22c5b\u2081 + a\u2082\u22c5b\u2082 + (a\u2080 + a\u2082)\u22c5(b\u2080 + b\u2082)"
       ]
      },
      {
       "output_type": "stream",
       "stream": "stdout",
       "text": [
        "d3=\n"
       ]
      },
      {
       "latex": [
        "$$a_{0} b_{0} + a_{1} b_{1} + a_{2} b_{2} + a_{3} b_{3} + \\left(a_{0} + a_{1}\\right) \\left(b_{0} + b_{1}\\right) + \\left(a_{0} + a_{2}\\right) \\left(b_{0} + b_{2}\\right) + \\left(a_{1} + a_{3}\\right) \\left(b_{1} + b_{3}\\right) + \\left(a_{2} + a_{3}\\right) \\left(b_{2} + b_{3}\\right) + \\left(a_{0} + a_{1} + a_{2} + a_{3}\\right) \\left(b_{0} + b_{1} + b_{2} + b_{3}\\right)$$"
       ],
       "metadata": {},
       "output_type": "display_data",
       "png": "[encoded data removed]",
       "text": [
        "a\u2080\u22c5b\u2080 + a\u2081\u22c5b\u2081 + a\u2082\u22c5b\u2082 + a\u2083\u22c5b\u2083 + (a\u2080 + a\u2081)\u22c5(b\u2080 + b\u2081) + (a\u2080 + a\u2082)\u22c5(b\u2080 + b\u2082) + (a\n",
        "\u2081 + a\u2083)\u22c5(b\u2081 + b\u2083) + (a\u2082 + a\u2083)\u22c5(b\u2082 + b\u2083) + (a\u2080 + a\u2081 + a\u2082 + a\u2083)\u22c5(b\u2080 + b\u2081 + b\u2082 + \n",
        "b\u2083)"
       ]
      },
      {
       "output_type": "stream",
       "stream": "stdout",
       "text": [
        "d4=\n"
       ]
      },
      {
       "latex": [
        "$$a_{1} b_{1} + a_{2} b_{2} + a_{3} b_{3} + \\left(a_{1} + a_{3}\\right) \\left(b_{1} + b_{3}\\right)$$"
       ],
       "metadata": {},
       "output_type": "display_data",
       "png": "[encoded data removed]",
       "text": [
        "a\u2081\u22c5b\u2081 + a\u2082\u22c5b\u2082 + a\u2083\u22c5b\u2083 + (a\u2081 + a\u2083)\u22c5(b\u2081 + b\u2083)"
       ]
      },
      {
       "output_type": "stream",
       "stream": "stdout",
       "text": [
        "d5=\n"
       ]
      },
      {
       "latex": [
        "$$a_{2} b_{2} + a_{3} b_{3} + \\left(a_{2} + a_{3}\\right) \\left(b_{2} + b_{3}\\right)$$"
       ],
       "metadata": {},
       "output_type": "display_data",
       "png": "[encoded data removed]",
       "text": [
        "a\u2082\u22c5b\u2082 + a\u2083\u22c5b\u2083 + (a\u2082 + a\u2083)\u22c5(b\u2082 + b\u2083)"
       ]
      },
      {
       "output_type": "stream",
       "stream": "stdout",
       "text": [
        "d6=\n"
       ]
      },
      {
       "latex": [
        "$$a_{3} b_{3}$$"
       ],
       "metadata": {},
       "output_type": "display_data",
       "png": "[encoded data removed]",
       "text": [
        "a\u2083\u22c5b\u2083"
       ]
      }
     ],
     "prompt_number": 7
    },
    {
     "cell_type": "code",
     "collapsed": false,
     "input": [
      "\n",
      "d2 = [0,\n",
      "(a0+a1)*(b0+b1),\n",
      "(a0+a2)*(b0+b2),\n",
      "D1+D2+(a1+a3)*(b1+b3)+(a2+a3)*(b2+b3),\n",
      "(a0+a4)*(b0+b4)+(a1+a3)*(b1+b3),\n",
      "D2+D3+D4+(a1+a5)*(b1+b5)+(a4+a5)*(b4+b5),\n",
      "D1+D10+D13+D2+D5+D9,\n",
      "D0 +D1 +D2 +D3 +D4 +D5 +D6 +D8 +D9 +D10 +D11 +D12 +D13 +D14,\n",
      "D1+D12+D13+D4+D5+D9,\n",
      "D10+D11+D12+(a2+a3)*(b2+b3)+(a2+a6)*(b2+b6),\n",
      "(a3+a7)*(b3+b7)+(a4+a6)*(b4+b6),\n",
      "D12+D13+(a4+a5)*(b4+b5)+(a4+a6)*(b4+b6),\n",
      "(a5+a7)*(b5+b7),\n",
      "(a6+a7)*(b6+b7),\n",
      "0]"
     ],
     "language": "python",
     "metadata": {},
     "outputs": [],
     "prompt_number": 4
    },
    {
     "cell_type": "code",
     "collapsed": false,
     "input": [
      "\n",
      "for i,v in enumerate(d2):\n",
      "    print 'd'+str(i)+'='\n",
      "    display(v)"
     ],
     "language": "python",
     "metadata": {},
     "outputs": [
      {
       "output_type": "stream",
       "stream": "stdout",
       "text": [
        "d0=\n"
       ]
      },
      {
       "latex": [
        "$$0$$"
       ],
       "metadata": {},
       "output_type": "display_data",
       "text": [
        "0"
       ]
      },
      {
       "output_type": "stream",
       "stream": "stdout",
       "text": [
        "d1=\n"
       ]
      },
      {
       "latex": [
        "$$\\left(a_{0} + a_{1}\\right) \\left(b_{0} + b_{1}\\right)$$"
       ],
       "metadata": {},
       "output_type": "display_data",
       "text": [
        "(a\u2080 + a\u2081)\u22c5(b\u2080 + b\u2081)"
       ]
      },
      {
       "output_type": "stream",
       "stream": "stdout",
       "text": [
        "d2=\n"
       ]
      },
      {
       "latex": [
        "$$\\left(a_{0} + a_{2}\\right) \\left(b_{0} + b_{2}\\right)$$"
       ],
       "metadata": {},
       "output_type": "display_data",
       "text": [
        "(a\u2080 + a\u2082)\u22c5(b\u2080 + b\u2082)"
       ]
      },
      {
       "output_type": "stream",
       "stream": "stdout",
       "text": [
        "d3=\n"
       ]
      },
      {
       "latex": [
        "$$D_{1} + D_{2} + \\left(a_{1} + a_{3}\\right) \\left(b_{1} + b_{3}\\right) + \\left(a_{2} + a_{3}\\right) \\left(b_{2} + b_{3}\\right)$$"
       ],
       "metadata": {},
       "output_type": "display_data",
       "text": [
        "D\u2081 + D\u2082 + (a\u2081 + a\u2083)\u22c5(b\u2081 + b\u2083) + (a\u2082 + a\u2083)\u22c5(b\u2082 + b\u2083)"
       ]
      },
      {
       "output_type": "stream",
       "stream": "stdout",
       "text": [
        "d4=\n"
       ]
      },
      {
       "latex": [
        "$$\\left(a_{0} + a_{4}\\right) \\left(b_{0} + b_{4}\\right) + \\left(a_{1} + a_{3}\\right) \\left(b_{1} + b_{3}\\right)$$"
       ],
       "metadata": {},
       "output_type": "display_data",
       "text": [
        "(a\u2080 + a\u2084)\u22c5(b\u2080 + b\u2084) + (a\u2081 + a\u2083)\u22c5(b\u2081 + b\u2083)"
       ]
      },
      {
       "output_type": "stream",
       "stream": "stdout",
       "text": [
        "d5=\n"
       ]
      },
      {
       "latex": [
        "$$D_{2} + D_{3} + D_{4} + \\left(a_{1} + a_{5}\\right) \\left(b_{1} + b_{5}\\right) + \\left(a_{4} + a_{5}\\right) \\left(b_{4} + b_{5}\\right)$$"
       ],
       "metadata": {},
       "output_type": "display_data",
       "text": [
        "D\u2082 + D\u2083 + D\u2084 + (a\u2081 + a\u2085)\u22c5(b\u2081 + b\u2085) + (a\u2084 + a\u2085)\u22c5(b\u2084 + b\u2085)"
       ]
      },
      {
       "output_type": "stream",
       "stream": "stdout",
       "text": [
        "d6=\n"
       ]
      },
      {
       "latex": [
        "$$D_{1} + D_{10} + D_{13} + D_{2} + D_{5} + D_{9}$$"
       ],
       "metadata": {},
       "output_type": "display_data",
       "text": [
        "D\u2081 + D\u2081\u2080 + D\u2081\u2083 + D\u2082 + D\u2085 + D\u2089"
       ]
      },
      {
       "output_type": "stream",
       "stream": "stdout",
       "text": [
        "d7=\n"
       ]
      },
      {
       "latex": [
        "$$D_{0} + D_{1} + D_{10} + D_{11} + D_{12} + D_{13} + D_{14} + D_{2} + D_{3} + D_{4} + D_{5} + D_{6} + D_{8} + D_{9}$$"
       ],
       "metadata": {},
       "output_type": "display_data",
       "text": [
        "D\u2080 + D\u2081 + D\u2081\u2080 + D\u2081\u2081 + D\u2081\u2082 + D\u2081\u2083 + D\u2081\u2084 + D\u2082 + D\u2083 + D\u2084 + D\u2085 + D\u2086 + D\u2088 + D\u2089"
       ]
      },
      {
       "output_type": "stream",
       "stream": "stdout",
       "text": [
        "d8=\n"
       ]
      },
      {
       "latex": [
        "$$D_{1} + D_{12} + D_{13} + D_{4} + D_{5} + D_{9}$$"
       ],
       "metadata": {},
       "output_type": "display_data",
       "text": [
        "D\u2081 + D\u2081\u2082 + D\u2081\u2083 + D\u2084 + D\u2085 + D\u2089"
       ]
      },
      {
       "output_type": "stream",
       "stream": "stdout",
       "text": [
        "d9=\n"
       ]
      },
      {
       "latex": [
        "$$D_{10} + D_{11} + D_{12} + \\left(a_{2} + a_{3}\\right) \\left(b_{2} + b_{3}\\right) + \\left(a_{2} + a_{6}\\right) \\left(b_{2} + b_{6}\\right)$$"
       ],
       "metadata": {},
       "output_type": "display_data",
       "text": [
        "D\u2081\u2080 + D\u2081\u2081 + D\u2081\u2082 + (a\u2082 + a\u2083)\u22c5(b\u2082 + b\u2083) + (a\u2082 + a\u2086)\u22c5(b\u2082 + b\u2086)"
       ]
      },
      {
       "output_type": "stream",
       "stream": "stdout",
       "text": [
        "d10=\n"
       ]
      },
      {
       "latex": [
        "$$\\left(a_{3} + a_{7}\\right) \\left(b_{3} + b_{7}\\right) + \\left(a_{4} + a_{6}\\right) \\left(b_{4} + b_{6}\\right)$$"
       ],
       "metadata": {},
       "output_type": "display_data",
       "text": [
        "(a\u2083 + a\u2087)\u22c5(b\u2083 + b\u2087) + (a\u2084 + a\u2086)\u22c5(b\u2084 + b\u2086)"
       ]
      },
      {
       "output_type": "stream",
       "stream": "stdout",
       "text": [
        "d11=\n"
       ]
      },
      {
       "latex": [
        "$$D_{12} + D_{13} + \\left(a_{4} + a_{5}\\right) \\left(b_{4} + b_{5}\\right) + \\left(a_{4} + a_{6}\\right) \\left(b_{4} + b_{6}\\right)$$"
       ],
       "metadata": {},
       "output_type": "display_data",
       "text": [
        "D\u2081\u2082 + D\u2081\u2083 + (a\u2084 + a\u2085)\u22c5(b\u2084 + b\u2085) + (a\u2084 + a\u2086)\u22c5(b\u2084 + b\u2086)"
       ]
      },
      {
       "output_type": "stream",
       "stream": "stdout",
       "text": [
        "d12=\n"
       ]
      },
      {
       "latex": [
        "$$\\left(a_{5} + a_{7}\\right) \\left(b_{5} + b_{7}\\right)$$"
       ],
       "metadata": {},
       "output_type": "display_data",
       "text": [
        "(a\u2085 + a\u2087)\u22c5(b\u2085 + b\u2087)"
       ]
      },
      {
       "output_type": "stream",
       "stream": "stdout",
       "text": [
        "d13=\n"
       ]
      },
      {
       "latex": [
        "$$\\left(a_{6} + a_{7}\\right) \\left(b_{6} + b_{7}\\right)$$"
       ],
       "metadata": {},
       "output_type": "display_data",
       "text": [
        "(a\u2086 + a\u2087)\u22c5(b\u2086 + b\u2087)"
       ]
      },
      {
       "output_type": "stream",
       "stream": "stdout",
       "text": [
        "d14=\n"
       ]
      },
      {
       "latex": [
        "$$0$$"
       ],
       "metadata": {},
       "output_type": "display_data",
       "text": [
        "0"
       ]
      }
     ],
     "prompt_number": 5
    },
    {
     "cell_type": "code",
     "collapsed": false,
     "input": [
      "from IPython.external.mathjax import install_mathjax\n",
      "install_mathjax()"
     ],
     "language": "python",
     "metadata": {},
     "outputs": [
      {
       "output_type": "stream",
       "stream": "stdout",
       "text": [
        "Downloading mathjax source from https://github.com/mathjax/MathJax/archive/v2.2.tar.gz\n",
        "Extracting to /home/lab1/.ipython/nbextensions/mathjax"
       ]
      },
      {
       "output_type": "stream",
       "stream": "stdout",
       "text": [
        "\n"
       ]
      },
      {
       "latex": [
        "$$0$$"
       ],
       "metadata": {},
       "output_type": "pyout",
       "prompt_number": 6,
       "text": [
        "0"
       ]
      }
     ],
     "prompt_number": 6
    },
    {
     "cell_type": "code",
     "collapsed": false,
     "input": [],
     "language": "python",
     "metadata": {},
     "outputs": []
    }
   ],
   "metadata": {}
  }
 ]
}
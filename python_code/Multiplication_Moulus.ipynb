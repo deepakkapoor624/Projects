{
 "metadata": {
  "name": "",
  "signature": "sha256:203b35865afae93e632b0b20997cf88ed2fb5286cad06452da28b0db1abb06e5"
 },
 "nbformat": 3,
 "nbformat_minor": 0,
 "worksheets": [
  {
   "cells": [
    {
     "cell_type": "code",
     "collapsed": false,
     "input": [
      "import binascii\n",
      "import numpy as np\n",
      "import gmpy2\n",
      "np.set_printoptions(formatter={'int':hex})\n",
      "\n",
      "class Binfield:\n",
      "    def __init__(self, Polynomial):\n",
      "        Polynomial = binascii.unhexlify(Polynomial)\n",
      "        Polynomial = np.fromstring(Polynomial, dtype='uint8') #\n",
      "        self.Polynomial = Polynomial\n",
      "        MUL_LUT = []\n",
      "        global Q,C2,B2,A2\n",
      "        B2=1\n",
      "        C2=0\n",
      "        A2=0\n",
      "        Q=0\n",
      "        LUT = np.array([0x00, 0x01, 0x4, 0x05, 0x10, 0x11, 0x14, 0x15, 0x40, 0x41, 0x44, 0x45, 0x50, 0x51, 0x54, 0x55])\n",
      "        a = np.arange(256)\n",
      "        b = [ LUT[a & 0x0F], LUT[(a & 0xF0)>> 4]]\n",
      "        c = []\n",
      "        for i in range(0,256):\n",
      "            a = (b[1][i] << 8) | b[0][i] \n",
      "            c.append(a)\n",
      "        self.LUT8 = np.array(c, dtype='uint8')\n",
      "       \n",
      "        \n",
      "        \n",
      "        self.MUL_LUT = np.array([0b0,0b0,0b0,0b0,0b0,0b0,0b0,0b0,0b0,0b0,0b0,0b0,0b0,0b0,0b0,0b0,0b0,0b1,\n",
      "        0b10,0b11,0b100,0b101,0b110,0b111,0b1000,0b1001,0b1010,0b1011,0b1100,\n",
      "        0b1101,0b1110,0b1111,0b0,0b10,0b100,0b110,0b1000,0b1010,0b1100,0b1110,\n",
      "        0b10000,0b10010,0b10100,0b10110,0b11000,0b11010,0b11100,0b11110,0b0,0b11,\n",
      "        0b110,0b101,0b1100,0b1111,0b1010,0b1001,0b11000,0b11011,0b11110,0b11101,\n",
      "        0b10100,0b10111,0b10010,0b10001,0b0,0b100,0b1000,0b1100,0b10000,0b10100,\n",
      "        0b11000,0b11100,0b100000,0b100100,0b101000,0b101100,0b110000,0b110100,\n",
      "        0b111000,0b111100,0b0,0b101,0b1010,0b1111,0b10100,0b10001,0b11110,0b11011,\n",
      "        0b101000,0b101101,0b100010,0b100111,0b111100,0b111001,0b110110,0b110011,\n",
      "        0b0,0b110,0b1100,0b1010,0b11000,0b11110,0b10100,0b10010,0b110000,0b110110,\n",
      "        0b111100,0b111010,0b101000,0b101110,0b100100,0b100010,0b0,0b111,0b1110,\n",
      "        0b1001,0b11100,0b11011,0b10010,0b10101,0b111000,0b111111,0b110110,0b110001,\n",
      "        0b100100,0b100011,0b101010,0b101101,0b0,0b1000,0b10000,0b11000,0b100000,\n",
      "        0b101000,0b110000,0b111000,0b1000000,0b1001000,0b1010000,0b1011000,\n",
      "        0b1100000,0b1101000,0b1110000,0b1111000,0b0,0b1001,0b10010,0b11011,\n",
      "        0b100100,0b101101,0b110110,0b111111,0b1001000,0b1000001,0b1011010,\n",
      "        0b1010011,0b1101100,0b1100101,0b1111110,0b1110111,0b0,0b1010,0b10100,\n",
      "        0b11110,0b101000,0b100010,0b111100,0b110110,0b1010000,0b1011010,0b1000100,\n",
      "        0b1001110,0b1111000,0b1110010,0b1101100,0b1100110,0b0,0b1011,0b10110,\n",
      "        0b11101,0b101100,0b100111,0b111010,0b110001,0b1011000,0b1010011,0b1001110,\n",
      "        0b1000101,0b1110100,0b1111111,0b1100010,0b1101001,0b0,0b1100,0b11000,\n",
      "        0b10100,0b110000,0b111100,0b101000,0b100100,0b1100000,0b1101100,0b1111000,\n",
      "        0b1110100,0b1010000,0b1011100,0b1001000,0b1000100,0b0,0b1101,0b11010,\n",
      "        0b10111,0b110100,0b111001,0b101110,0b100011,0b1101000,0b1100101,0b1110010,\n",
      "        0b1111111,0b1011100,0b1010001,0b1000110,0b1001011,0b0,0b1110,0b11100,\n",
      "        0b10010,0b111000,0b110110,0b100100,0b101010,0b1110000,0b1111110,0b1101100,\n",
      "        0b1100010,0b1001000,0b1000110,0b1010100,0b1011010,0b0,0b1111,0b11110,\n",
      "        0b10001,0b111100,0b110011,0b100010,0b101101,0b1111000,0b1110111,0b1100110,\n",
      "        0b1101001,0b1000100,0b1001011,0b1011010,0b1010101])\n",
      "    \n",
      "\n",
      "    def mul_8_lut (self,a, b):\n",
      "        a1 = (a&0xf0)>>4\n",
      "        a0 = (a&0xf)\n",
      "        b1 = (b&0xf0)>>4\n",
      "        b0 = (b&0xf)\n",
      "\n",
      "        d2 = self.MUL_LUT[a1<<4 | b1]\n",
      "        d1 = self.MUL_LUT[a1<<4 | b0] ^ self.MUL_LUT[a0<<4 | b1]\n",
      "        d0 = self.MUL_LUT[a0<<4 | b0]\n",
      "        return d2<<8 ^ d1 <<4 ^ d0\n",
      "    \n",
      "    def mul_32 (self,a, b):\n",
      "        a3 = (a&0xff000000)>>16\n",
      "        a2 = (a&0xff0000)>>8\n",
      "        a1 = (a&0xff00)>>4\n",
      "        a0 = (a&0xff)\n",
      "        b3 = (b&0xff000000)>>16\n",
      "        b2= (b&0xff0000)>>8\n",
      "        b1 = (b&0xff00)>>4\n",
      "        b0 = (b&0xff)\n",
      "    \n",
      "        phi1=self.mul_8_lut(a3,b3) ^ self.mul_8_lut(a2,b2)\n",
      "        phi2=self.mul_8_lut(a1,b) ^ self.mul_8_lut(a0,b0)\n",
      "        phi=phi1^phi2\n",
      "          \n",
      "        d6 = self.mul_8_lut(a3,b3) \n",
      "        d5 = self.mul_8_lut(a3^a2, b3^b2)^phi1 \n",
      "        d4 = (self.mul_8_lut(a3^a1, b3^b1)^(phi1)^self.mul_8_lut(a1,b1))\n",
      "        d3 = (self.mul_8_lut(a3^a0, b3^b0)^self.mul_8_lut(a2^a1, b2^b1)^phi)  \n",
      "        d2 = self.mul_8_lut(a2^a0, b2^b0)^phi2^self.mul_8_lut(a2,b2)\n",
      "        d1 = self.mul_8_lut(a1^a0, b1^b0)^phi2 \n",
      "        d0 = self.mul_8_lut(a0,b0)\n",
      "        return ( d6<<48 ^ d5<<40 ^ d4<<32 ^ d3<<24 ^ d2<<16 ^ d1<<8 ^ d0)\n",
      "    \n",
      "    def recursion(self,a,b):\n",
      "        d=0\n",
      "        i=0\n",
      "        a=int(float(a))\n",
      "        b=int(float(b))\n",
      "        #print a,b\n",
      "        #print \"@@@@\"\n",
      "        while(a):\n",
      "            x=a%10\n",
      "            a=a/10\n",
      "            if(x):\n",
      "                d=d+2**i                       ## converting a into binary bits\n",
      "            i=i+1\n",
      "        a=d\n",
      "        i=0\n",
      "        d=0\n",
      "        while(b):\n",
      "            x=b%10\n",
      "            b=b/10\n",
      "            if(x):                            ## converting b into binary bits\n",
      "                d=d+2**i\n",
      "            i=i+1\n",
      "        b=d     \n",
      "        #print a,b\n",
      "        base_array=[32,64,128,256]            ## used for prepering look update\n",
      "        array=np.array([0xffffffff,0xffffffffffffffff,0xffffffffffffffffffffffffffffffff, \n",
      "                        0xffffffffffffffffffffffffffffffffffffffffffffffffffffffffffffffff,\n",
      "                        0xffffffffffffffffffffffffffffffffffffffffffffffffffffffffffffffffffffffffffffffffffffffffffffffffffffffffffffffffffffffffffffffff])\n",
      "        \n",
      "                                              ## entities for masking\n",
      "            \n",
      "        a1=str(hex(a)) \n",
      "        l1=(len(a1)-2)*4         \n",
      "        b1=str(hex(b))                  ## finding length of strings in hexadecimal mode(-2) is to remove ox from string\n",
      "        l2=(len(b1)-2)*4\n",
      "        l=max(l1,l2)\n",
      "        base=0\n",
      "        for i,v in enumerate(base_array):\n",
      "            if(l/base_array[i]==0|((l/base_array[i]==1)&(l%base_array[i]==0))):\n",
      "                base=base_array[i]\n",
      "                break\n",
      "            else:\n",
      "                pass\n",
      "        #print base\n",
      "        shift=0\n",
      "        self.a = a;\n",
      "        self.b = b;\n",
      "        #print l1,l2\n",
      "        \n",
      "        if(l<=32):\n",
      "            return self.mul_32(a,b)\n",
      "        else:\n",
      "            pass\n",
      "        \n",
      "        if(l>32):\n",
      "            a0=[]\n",
      "            w=[]\n",
      "            w.append(base)\n",
      "            \n",
      "            base=base/2\n",
      "            \n",
      "            a1=(a&(array[base_array.index(base)]<<(base)))\n",
      "            a1=a1>>base\n",
      "            a0=a&array[base_array.index(base)]\n",
      "            b1=b&array[base_array.index(base)]<<base\n",
      "            b1=b1>>base\n",
      "            b0=b&array[base_array.index(base)]\n",
      "          \n",
      "        \n",
      "            d0=self.recursion(int(a0),int(b0))\n",
      "            \n",
      "            d1=self.recursion(int(a1), int(b0)) ^self.recursion(int(a0), int(b1))\n",
      "            d2 = self.recursion(int(a1), int(b1))\n",
      "            d2=long(d2)\n",
      "            d1=long(d1)\n",
      "            q=len(w)\n",
      "            s=w[q-1]\n",
      "            del(w[q-1])\n",
      "            return d2<<s ^ d1 <<s/2 ^ d0\n",
      "            #print '######'\n",
      "            \n",
      "        else:\n",
      "                pass\n",
      "              \n",
      "    def bin_array(self,number):\n",
      "        c=[]\n",
      "        while(number!=0):\n",
      "             l=number%10\n",
      "             number=number/10\n",
      "             c.append(l)\n",
      "        return c[::-1]        \n",
      "    \n",
      "    def shift_array(self,array):\n",
      "        del array[0]\n",
      "        return array \n",
      "    \n",
      "    def modulus(self,num1,num2):\n",
      "        #print num1,num2\n",
      "        a=self.bin_array(num1)\n",
      "        b=self.bin_array(num2)\n",
      "        # print a,b\n",
      "        l1=len(a)\n",
      "        l2=len(b)\n",
      "        if(l1<l2):\n",
      "            return self.bin_array(num1)\n",
      "        c=[]\n",
      "        j=l1-l2\n",
      "        while(j>=0):   \n",
      "            for i in range(0,l1):\n",
      "                if(i<l2):\n",
      "                    d= b[i] ^ a[i]\n",
      "                else:\n",
      "                    d=a[i]\n",
      "                c.append(d)\n",
      "            if  len(c):\n",
      "                k=1\n",
      "                while(c[0]!=1):\n",
      "                    c=self.shift_array(c)\n",
      "                    if(len(c)<1):\n",
      "                        break\n",
      "            a=c\n",
      "            #print c\n",
      "            l1=len(a)\n",
      "            j=l1-l2\n",
      "            if(j>=0):\n",
      "                c=[]\n",
      "            if(j<0):\n",
      "                return c\n",
      "\n",
      "    \n",
      "    ###############Square\n",
      "    \n",
      "    def square (self, A):\n",
      "        b = A.view('uint8')\n",
      "        c = self.LUT8[b]\n",
      "        return c\n",
      "    \n",
      "    def bin_square (self, A):\n",
      "        A = binascii.unhexlify(A)\n",
      "        A = np.fromstring(A, dtype='uint8') \n",
      "        return self.square(A)\n",
      "    \n",
      "    \n",
      "    ######################Inversion\n",
      "    def inverse_itoh(self,A,power):\n",
      "        j=0\n",
      "        num3=0\n",
      "        p=2**power-1\n",
      "        i=0\n",
      "        d,x=0,0\n",
      "        a=int(float(A))\n",
      "        num1=a\n",
      "        Polynomial=self.Polynomial.tolist()\n",
      "        Polynomial=Polynomial[0]\n",
      "        num2=bin(Polynomial)\n",
      "        num2=num2[2:]\n",
      "        num2=int(float(num2))\n",
      "        Z='0'\n",
      "        while(a):\n",
      "            x=a%10\n",
      "            a=a/10\n",
      "            if(x):\n",
      "                d=d+2**i\n",
      "            i=i+1\n",
      "        a=d\n",
      "        Q=bin(a)\n",
      "        #print Q[2:]\n",
      "        A=hex(a)\n",
      "        A=A[2:]\n",
      "        A=Z+A\n",
      "        square=self.bin_square(A)\n",
      "        square=square.tolist()\n",
      "        mult=num1       \n",
      "        for i in range(p-1):\n",
      "           \n",
      "            multiply=self.recursion(mult,num1) \n",
      "            #print multiply\n",
      "            mult=multiply\n",
      "            mult=bin(mult)\n",
      "           # print mult\n",
      "            mult=mult[2:]\n",
      "            mult=int(mult)\n",
      "            #print mult\n",
      "            mod=self.modulus(mult,num2)\n",
      "            l=len(mod)\n",
      "            #print l\n",
      "            num3=0\n",
      "            j=0\n",
      "            while(l):\n",
      "                l=l-1\n",
      "                num3=num3+mod[l]*10**j\n",
      "                #print mod[l],num3\n",
      "                j=j+1\n",
      "            mult=num3\n",
      "        return mod\n",
      "        \n",
      "    "
     ],
     "language": "python",
     "metadata": {},
     "outputs": [],
     "prompt_number": 2
    },
    {
     "cell_type": "code",
     "collapsed": false,
     "input": [
      "a=Binfield(\"ffffffff\")\n",
      "a.modulus(1001000,10011)"
     ],
     "language": "python",
     "metadata": {},
     "outputs": [
      {
       "metadata": {},
       "output_type": "pyout",
       "prompt_number": 9,
       "text": [
        "[1, 0, 0]"
       ]
      }
     ],
     "prompt_number": 9
    },
    {
     "cell_type": "code",
     "collapsed": false,
     "input": [
      "len('10010000011000001101001010011101')"
     ],
     "language": "python",
     "metadata": {},
     "outputs": [
      {
       "metadata": {},
       "output_type": "pyout",
       "prompt_number": 5,
       "text": [
        "32"
       ]
      }
     ],
     "prompt_number": 5
    },
    {
     "cell_type": "code",
     "collapsed": false,
     "input": [
      "bin(0x0000000012345678)"
     ],
     "language": "python",
     "metadata": {},
     "outputs": [
      {
       "metadata": {},
       "output_type": "pyout",
       "prompt_number": 15,
       "text": [
        "'0b10010001101000101011001111000'"
       ]
      }
     ],
     "prompt_number": 15
    },
    {
     "cell_type": "code",
     "collapsed": false,
     "input": [
      "mult"
     ],
     "language": "python",
     "metadata": {},
     "outputs": [
      {
       "metadata": {},
       "output_type": "pyout",
       "prompt_number": 341,
       "text": [
        "'100100001001000000000001001000001'"
       ]
      }
     ],
     "prompt_number": 341
    },
    {
     "cell_type": "code",
     "collapsed": false,
     "input": [
      "len('0000000000000000000000000000000000000000000000000000000000000000000000000000000000000')"
     ],
     "language": "python",
     "metadata": {},
     "outputs": [
      {
       "metadata": {},
       "output_type": "pyout",
       "prompt_number": 38,
       "text": [
        "85"
       ]
      }
     ],
     "prompt_number": 38
    },
    {
     "cell_type": "code",
     "collapsed": false,
     "input": [
      "1>>1"
     ],
     "language": "python",
     "metadata": {},
     "outputs": [
      {
       "metadata": {},
       "output_type": "pyout",
       "prompt_number": 15,
       "text": [
        "0"
       ]
      }
     ],
     "prompt_number": 15
    },
    {
     "cell_type": "code",
     "collapsed": false,
     "input": [
      "a='0'*585\n",
      "print a"
     ],
     "language": "python",
     "metadata": {},
     "outputs": [
      {
       "output_type": "stream",
       "stream": "stdout",
       "text": [
        "000000000000000000000000000000000000000000000000000000000000000000000000000000000000000000000000000000000000000000000000000000000000000000000000000000000000000000000000000000000000000000000000000000000000000000000000000000000000000000000000000000000000000000000000000000000000000000000000000000000000000000000000000000000000000000000000000000000000000000000000000000000000000000000000000000000000000000000000000000000000000000000000000000000000000000000000000000000000000000000000000000000000000000000000000000000000000000000000000000000000000000000000000000000000000000000000000000000\n"
       ]
      }
     ],
     "prompt_number": 43
    },
    {
     "cell_type": "code",
     "collapsed": false,
     "input": [
      "len('000000000000000000000000000000000000000000000000000000000000000000000000000000000000000000000000000000000000000000000000000000000000000000000000000000000000000000000000000000000000000000000000000000000000000000000000000000000000000000000000000000000000000000000000000000000000000000000000000000000000000000000000000000000000000000000000000000000000000000000000000000000000000000000000000000000000000000000000000000000000000000000000000000000000000000000000000000000000000000000000000000000000000000000000000000000000000000000000000000000000000000000000000000000000000000000000000000000')"
     ],
     "language": "python",
     "metadata": {},
     "outputs": [
      {
       "metadata": {},
       "output_type": "pyout",
       "prompt_number": 44,
       "text": [
        "585"
       ]
      }
     ],
     "prompt_number": 44
    },
    {
     "cell_type": "code",
     "collapsed": false,
     "input": [
      "bin(0x80000000000000002000000000000000f000000000000000900000000000000080000000000000001000000000000000d0000000000000003)"
     ],
     "language": "python",
     "metadata": {},
     "outputs": [
      {
       "metadata": {},
       "output_type": "pyout",
       "prompt_number": 6,
       "text": [
        "'0b10000000000000000000000000000000000000000000000000000000000000000010000000000000000000000000000000000000000000000000000000000000111100000000000000000000000000000000000000000000000000000000000010010000000000000000000000000000000000000000000000000000000000001000000000000000000000000000000000000000000000000000000000000000000100000000000000000000000000000000000000000000000000000000000011010000000000000000000000000000000000000000000000000000000000000011'"
       ]
      }
     ],
     "prompt_number": 6
    },
    {
     "cell_type": "code",
     "collapsed": false,
     "input": [
      "bin(0x800000000000000000000000000000000000000000000000000000000000000000000000000000040000000000000009)"
     ],
     "language": "python",
     "metadata": {},
     "outputs": [
      {
       "metadata": {},
       "output_type": "pyout",
       "prompt_number": 7,
       "text": [
        "'0b100000000000000000000000000000000000000000000000000000000000000000000000000000000000000000000000000000000000000000000000000000000000000000000000000000000000000000000000000000000000000000000000000000000000000000000000000000000000000000000000000000000000000000000000000000000000000000000000000000000000000000000000000001000000000000000000000000000000000000000000000000000000000000001001'"
       ]
      }
     ],
     "prompt_number": 7
    },
    {
     "cell_type": "code",
     "collapsed": false,
     "input": [],
     "language": "python",
     "metadata": {},
     "outputs": []
    }
   ],
   "metadata": {}
  }
 ]
}
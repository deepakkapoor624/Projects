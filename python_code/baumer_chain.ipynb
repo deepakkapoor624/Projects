{
 "metadata": {
  "name": "",
  "signature": "sha256:ee477fb20bb4147b21eccc96c34550fc325b16813186af0423617ebd83040bd5"
 },
 "nbformat": 3,
 "nbformat_minor": 0,
 "worksheets": [
  {
   "cells": [
    {
     "cell_type": "code",
     "collapsed": false,
     "input": [
      "import numpy as np\n",
      "n=input(\"print size of n bit\")\n",
      "final_value=1\n",
      "a=np.array([],dtype=int)\n",
      "n=(n-1)\n",
      "while(n):\n",
      "    if(n%2==0):\n",
      "        a=np.append(n,a)\n",
      "        n=n/2\n",
      "    else:\n",
      "        a=np.append(n,a)\n",
      "        n=n-1\n",
      "\n",
      "print a\n",
      "array=np.array([],dtype=int)\n",
      "for i in a:\n",
      "    if(i>1):\n",
      "        if(i%2==0):\n",
      "            array=np.append(array,(i/2,i/2))\n",
      "        else:\n",
      "            array=np.append(array,(i-1,1))\n",
      "\n",
      "print (array)"
     ],
     "language": "python",
     "metadata": {},
     "outputs": []
    },
    {
     "cell_type": "code",
     "collapsed": false,
     "input": [
      "import binascii\n",
      "import numpy as np\n",
      "import gmpy2\n",
      "import random\n",
      "import array\n",
      "import copy\n",
      "\n",
      "np.set_printoptions(formatter={'int':hex})\n",
      "\n",
      "\n",
      "class Binfield:\n",
      "    def __init__(self, Polynomial):        \n",
      "        Polynomial =  self.str2nparray(Polynomial)\n",
      "        self.Polynomial = Polynomial\n",
      "        #print self.Polynomial\n",
      "        self.make_mul_lut()\n",
      "        self.make_sqr_lut()\n",
      "        self.gen_mod_table()\n",
      "        \n",
      "    def str2nparray(self, A):\n",
      "        A = '0'*(8 - len(A)%8) + A\n",
      "        A = binascii.unhexlify(A)\n",
      "        A = np.fromstring(A[::-1], dtype='uint32') \n",
      "        return A\n",
      "\n",
      "    def nparray2str(self, A):\n",
      "        c = ''\n",
      "        d = A.view('uint8')\n",
      "        for i in d[::-1]:\n",
      "           \n",
      "            c+=binascii.hexlify(i)\n",
      "        return c \n",
      "    \n",
      "    def nparray2str2(self, A):\n",
      "        c = ''\n",
      "        d = A.view('uint8')\n",
      "        for i in d:\n",
      "    \n",
      "            c+=binascii.hexlify(i)\n",
      "        return c  \n",
      "        \n",
      "    def mul_2 (self,a, b):\n",
      "        a1 = (a&2)>>1\n",
      "        a0 = (a&1)\n",
      "        b1 = (b&2)>>1\n",
      "        b0 = (b&1)\n",
      "\n",
      "        d2 = (a1 & b1)&1\n",
      "        d0 = (a0 & b0)&1\n",
      "        d1 = (((a1 ^ a0) & (b1 ^ b0)) ^ d0 ^ d2 )&1\n",
      "        return d2<<2 ^ d1 <<1 ^ d0\n",
      "    \n",
      "    def mul_2 (self,a, b):\n",
      "        a1 = (a&2)>>1\n",
      "        a0 = (a&1)\n",
      "        b1 = (b&2)>>1\n",
      "        b0 = (b&1)\n",
      "\n",
      "        d2 = (a1 & b1)&1\n",
      "        d0 = (a0 & b0)&1\n",
      "        d1 = (((a1 ^ a0) & (b1 ^ b0)) ^ d0 ^ d2 )&1\n",
      "        return d2<<2 ^ d1 <<1 ^ d0\n",
      "    \n",
      "    def test_mul_2 (self):\n",
      "        for i in range(4):\n",
      "            for j in range(4):\n",
      "                print bin(self.mul_2(i, j))\n",
      "        return 0\n",
      "    \n",
      "    def mul_4 (self,a, b):\n",
      "        a1 = (a&0xC)>>2\n",
      "        a0 = (a&0x3)\n",
      "        b1 = (b&0xc)>>2\n",
      "        b0 = (b&0x3)\n",
      "\n",
      "        d2 = self.mul_2(a1, b1)\n",
      "        d0 = self.mul_2(a0, b0)\n",
      "        d1 = self.mul_2((a1 ^ a0), (b1 ^ b0)) ^ d0 ^ d2\n",
      "        \n",
      "        return d2<<4 ^ d1 <<2 ^ d0\n",
      "    \n",
      "    def make_mul_lut(self):\n",
      "        MUL_LUT = []\n",
      "        for i in range(0,256):\n",
      "            b = self.mul_4((i&0xf0)>>4,i&0x0f)\n",
      "            MUL_LUT.append(b)\n",
      "        self.MUL_LUT = np.array(MUL_LUT)\n",
      "        return 0\n",
      "        \n",
      "    def mul_8 (self,a, b):\n",
      "        a1 = (a&0xf0)>>4\n",
      "        a0 = (a&0xf)\n",
      "        b1 = (b&0xf0)>>4\n",
      "        b0 = (b&0xf)\n",
      "\n",
      "        d2 = self.mul_4(a1, b1)\n",
      "        d0 = self.mul_4(a0, b0)\n",
      "        d1 = self.mul_4((a1 ^ a0), (b1 ^ b0)) ^ d0 ^ d2\n",
      " \n",
      "        return d2<<8 ^ d1 <<4 ^ d0\n",
      "    \n",
      "    \n",
      "    def mul_8_lut (self,a, b):\n",
      "        a1 = (a&0xf0)>>4\n",
      "        a0 = (a&0xf)\n",
      "        b1 = (b&0xf0)>>4\n",
      "        b0 = (b&0xf)\n",
      "\n",
      "        d2 = self.MUL_LUT[a1<<4 | b1]\n",
      "        d0 = self.MUL_LUT[a0<<4 | b0]\n",
      "        d1 = self.MUL_LUT[(a1 ^ a0)<<4 | (b1 ^ b0)] ^ d0 ^ d2\n",
      "        return int(d2<<8 ^ d1 <<4 ^ d0)\n",
      "    \n",
      "    def mul_32 (self, a, b):\n",
      "        a3 = (a&0xff000000)>>24\n",
      "        a2 = (a&0xff0000)>>16\n",
      "        a1 = (a&0xff00)>>8\n",
      "        a0 = (a&0xff)\n",
      "        b3 = (b&0xff000000)>>24\n",
      "        b2 = (b&0xff0000)>>16\n",
      "        b1 = (b&0xff00)>>8\n",
      "        b0 = (b&0xff)\n",
      "        \n",
      "        d3 = self.mul_8_lut(a3, b3)\n",
      "        d2 = self.mul_8_lut(a2, b2)\n",
      "        d1 = self.mul_8_lut(a1, b1)\n",
      "        d0 = self.mul_8_lut(a0, b0)\n",
      "        \n",
      "        f1 = d3 ^ d2\n",
      "        f0 = d1 ^ d0\n",
      "        f  = f1 ^ f0\n",
      "        \n",
      "        c6 = d3\n",
      "        c5 = self.mul_8_lut(a3 ^ a2, b3 ^ b2) ^ f1\n",
      "        c4 = self.mul_8_lut(a3 ^ a1, b3 ^ b1) ^ f1 ^ d1\n",
      "        c2 = self.mul_8_lut(a2 ^ a0, b2 ^ b0) ^ f0 ^ d2\n",
      "        c1 = self.mul_8_lut(a1 ^ a0, b1 ^ b0) ^ f0\n",
      "        c0 = d0        \n",
      "        c3 = self.mul_8_lut(a3 ^ a2 ^ a1 ^ a0 , b3 ^ b2 ^ b1 ^  b0) ^ c1 ^ c2 ^ c0 ^ c4 ^ c5 ^ c6\n",
      "        r = np.array([(c3&0xFF)<<24 ^ c2<<16 ^ c1<<8 ^ c0 , c6<<16 ^ c5<<8 ^ c4 ^ (c3&0xFF00) >>8])\n",
      "      \n",
      "        return r \n",
      "    \n",
      "        \n",
      "    def mul_64 (self, a, b):\n",
      "        a1 = a[1]\n",
      "        a0 = a[0]\n",
      "        b1 = b[1]\n",
      "        b0 = b[0]\n",
      "\n",
      "        d2 = self.mul_32(a1, b1)\n",
      "        d0 = self.mul_32(a0, b0)\n",
      "        d1 = (self.mul_32((a1^a0), (b1^b0)) ^ d0 ^ d2)\n",
      "                \n",
      "        r = np.array([d0[0], d0[1] ^ d1[0], d1[1] ^ d2[0], d2[1]])\n",
      "        return r\n",
      "    \n",
      "  \n",
      "    \n",
      "    def make_sqr_lut(self):\n",
      "        LUT = np.array([0x00, 0x01, 0x4, 0x05, 0x10, 0x11, 0x14, \n",
      "                        0x15, 0x40, 0x41, 0x44, 0x45, 0x50, 0x51, 0x54, 0x55])\n",
      "        a = np.arange(256)\n",
      "        b = [ LUT[a & 0x0F], LUT[(a & 0xF0)>> 4]]\n",
      "        c = []\n",
      "        for i in range(0,256):\n",
      "            a = (b[1][i] << 8) | b[0][i] \n",
      "            c.append(a)\n",
      "        self.LUT8 = np.array(c, dtype='uint16')        \n",
      "        \n",
      "        \n",
      "    def square (self, A):\n",
      "      \n",
      "        b = A.view('uint8')\n",
      "        c = self.LUT8[b]\n",
      "        d = c.view('uint32')\n",
      "        while (d[-1] == 0):\n",
      "            if (len(d) == 1):\n",
      "                break\n",
      "            d = d[:-1]   \n",
      "        return d\n",
      "    \n",
      "    def bin_sqr (self, A):\n",
      "        A = self.str2nparray(A)\n",
      "  \n",
      "        return self.square(A)\n",
      "    \n",
      "    def bin_mul_64 (self, A, B):\n",
      "        A = binascii.unhexlify(A)\n",
      "        A = np.fromstring(A, dtype='uint32') \n",
      "        print A\n",
      "        B = binascii.unhexlify(B)\n",
      "        B = np.fromstring(B, dtype='uint32') \n",
      "        print B\n",
      "        return self.mul_64(A, B)\n",
      "    \n",
      "            \n",
      "    \n",
      "    def gen_mod_table(self):\n",
      "        index = 0\n",
      "        p = self.Polynomial.view('uint8')\n",
      "        p = p[::-1]\n",
      "        while (p[0] == 0):\n",
      "            if (len(p) == 1):\n",
      "                break\n",
      "            p = p[1:]\n",
      "            \n",
      "        f_bit_pos = gmpy2.bit_length(int(p[0])) \n",
      "        \n",
      "        self.Polly_byte_len = len(p)\n",
      "        self.Polly_bit_len = f_bit_pos\n",
      "    \n",
      "      \n",
      "        p = np.array(p)\n",
      "      \n",
      "        \n",
      "        p1 = p >> (f_bit_pos-1)\n",
      "        p2 = p << (9 - f_bit_pos)\n",
      "       \n",
      "\n",
      "        p1 = np.append(p1, 0)\n",
      "        p2 = np.append(0, p2)   \n",
      "        pr = p1 ^ p2 & 0xff\n",
      "\n",
      "\n",
      "        p1 = pr >> 1\n",
      "        p2 = pr << 7\n",
      "      \n",
      "        p1 = np.append(p1, 0)\n",
      "        p2 = np.append(0, p2)        \n",
      "        pl = (p1 ^ p2) & 0xff\n",
      "        pl = pl[1:]\n",
      "        \n",
      "        pl[0] = pl[0] & 0x7F\n",
      "        self.pr = pr\n",
      "        poly_7 = []\n",
      "        p3 = np.append(0, pr[1:])\n",
      "        poly_7.append(p3)\n",
      "        \n",
      "                \n",
      "        for i in range(7):\n",
      "            p1 = p3 << (1)\n",
      "            p2 = p3 >> (7)\n",
      "            p2 = np.append(p2[1:], 0)\n",
      "            p3 = (p1 ^ p2) & 0xff\n",
      "       \n",
      "            if not p3[0] == 0:\n",
      "                p3 = p3 ^ pr\n",
      "            poly_7.append(p3)            \n",
      "        \n",
      "  \n",
      "        index = []\n",
      "        \n",
      "        for i in range(len(poly_7[0])):\n",
      "            for j in poly_7:\n",
      "                if j[i] != 0:\n",
      "                    index.append(i)\n",
      "                    break  \n",
      "       \n",
      "            \n",
      "        Polly_table = []\n",
      "        for i in range(256):\n",
      "            val = np.zeros(len(poly_7[0]),  dtype='uint8')\n",
      "            for j in range(8):\n",
      "                if ((i >> j) & 0x1):\n",
      "                    val = val ^ poly_7[j]\n",
      "            indexed_val = []\n",
      "            for k in index:\n",
      "                indexed_val.append(val[k])                \n",
      "            Polly_table.append(np.array(indexed_val))\n",
      "      \n",
      "        self.Polly_table = Polly_table\n",
      "        self.Polly_index = index\n",
      "        return 0\n",
      " \n",
      "    \n",
      "    def bin_mod (self, A):\n",
      "        A =  self.str2nparray(A)\n",
      "        return self.modulus(A)\n",
      "            \n",
      "    def bin_mul(self, A, B):\n",
      "\n",
      "        A =  self.str2nparray(A)\n",
      "        B =  self.str2nparray(B)\n",
      "        return self.multiplication(A ,B)      \n",
      "        \n",
      "    def multiplication(self, A, B):\n",
      "\n",
      "        l1 = len(A)\n",
      "        l2 = len(B)\n",
      "        l = max(l1, l2)\n",
      "        size = 1\n",
      "        l3 = l\n",
      "        while l3 != 1:\n",
      "            l3 = l3/2\n",
      "            size *=2\n",
      "        if l > size:\n",
      "            size *=2\n",
      "        A = np.append(A, np.zeros(size-l1, dtype=np.int32))\n",
      "        B = np.append(B, np.zeros(size-l2, dtype=np.int32))\n",
      "        C =self.mul_recr(A ,B)\n",
      "        while(C[-1]==0):\n",
      "            if len(C) == 1:\n",
      "                break\n",
      "            C = C[:-1]\n",
      "        \n",
      "        C = np.array(C, dtype='uint32')\n",
      "       #print (C)\n",
      "        return C\n",
      "    \n",
      "    def mul_recr(self,A, B):   \n",
      "        l = len(A)        \n",
      "        if(l==1):\n",
      "            if A[0] == 0 | B[0] == 0:\n",
      "                d = np.array([0, 0], dtype=\"uint32\")\n",
      "            \n",
      "                return d\n",
      "            else:\n",
      "                d = self.mul_32(A , B)\n",
      "            \n",
      "                return d\n",
      "        else:\n",
      "            d0 = self.mul_recr(A[0:l/2],B[0:l/2])\n",
      "            d2 = self.mul_recr(A[l/2:l],B[l/2:l])\n",
      "            d1 = self.mul_recr((A[l/2:l] ^ A[0:l/2]), (B[l/2:l] ^ B[0:(l/2)])) ^ d0 ^ d2\n",
      "            \n",
      "            l = len(d1)/2\n",
      "       \n",
      "            \n",
      "            d0 = np.append(d0, np.zeros(2*l, dtype=np.int32))\n",
      "            d1 = np.append(np.zeros(l, dtype=np.int32), d1)\n",
      "            d1 = np.append(d1, np.zeros(l, dtype=np.int32))\n",
      "            d2 = np.append(np.zeros(2*l, dtype=np.int32), d2)\n",
      "        \n",
      "            d2 = d2^d1^d0\n",
      "            return d2\n",
      "    \n",
      "    \n",
      "    \n",
      "    \n",
      "    def remove_0(self, A):\n",
      "        while A[0] == 0:\n",
      "            if len(A) == 1:\n",
      "                break\n",
      "            A = A[1:]\n",
      "        return A\n",
      "\n",
      "    \n",
      "    def modulus1 (self, A):\n",
      "        B = np.copy(A)\n",
      "        p1 = B.view('uint8')        \n",
      "        p = p1[::-1]\n",
      "        \n",
      "        byte_len = self.Polly_byte_len\n",
      "        bit_len = self.Polly_bit_len \n",
      "  \n",
      "        while p[0] == 0:\n",
      "            if len(p) == 1:\n",
      "                break\n",
      "            p = p[1:]\n",
      "       \n",
      "        '''Reduction based on lookup tables'''\n",
      "        \n",
      "        while len(p) > byte_len:\n",
      "            red_poly = self.Polly_table[p[0]]\n",
      "   \n",
      "            for j,k in zip(red_poly, self.Polly_index):\n",
      "                if j != 0:\n",
      "                    p[k] ^= j            \n",
      "            p = p[1:]\n",
      "         \n",
      "            while p[0] == 0:\n",
      "                if len(p) == 1:\n",
      "                    break\n",
      "                p = p[1:]\n",
      "     \n",
      "            \n",
      "                \n",
      "        print p\n",
      "            \n",
      "        while p[0] == 0:\n",
      "            if len(p) == 1:\n",
      "                break\n",
      "            p = p[1:]\n",
      "    \n",
      "        if (len(p)+1 < self.Polly_index[-1]):\n",
      "            return p\n",
      "        \n",
      "        r = p[0] & (gmpy2.bit_mask(bit_len-1) ^ 0xFF)\n",
      "\n",
      "        if r != 0:\n",
      "           \n",
      "            '''Last byte reduction when polynomial is equal to primitive'''\n",
      "            if (len(p) == self.Polly_index[-1]):     \n",
      "                red_poly = self.Polly_table[r]\n",
      "            \n",
      "                for j,k in zip(red_poly, self.Polly_index):\n",
      "                    if (k < len(p)):\n",
      "                        p[k] ^= j\n",
      "                p[-1] ^= r\n",
      "            else:\n",
      "                '''Reduction by hand'''\n",
      "                while r != 0:\n",
      "                    f_bit_pos = gmpy2.bit_length(r)\n",
      "                    p1 = self.pr << (f_bit_pos -1)\n",
      "                    p2 = self.pr >> (9 - f_bit_pos)\n",
      "                    p1 = p1[:-1]\n",
      "                    p2 = p2[1:]\n",
      "                    p = p ^ p1 ^ p2\n",
      "                    r = p[-1] & (gmpy2.bit_mask(bit_len-1) ^ 0xFF)\n",
      "                \n",
      "        while p[0] == 0:\n",
      "            if len(p) == 1:\n",
      "                break\n",
      "            p = p[1:]\n",
      " \n",
      "        \n",
      "        p = p[::-1]\n",
      "      \n",
      "        q = np.append(np.zeros(4 - len(p)%4, dtype=np.int8), p)\n",
      "        q = np.array(q, dtype='uint8')\n",
      "      \n",
      "        q = np.getbuffer(q)\n",
      "        q = np.frombuffer(q, dtype='uint32')        \n",
      "\n",
      "        return  q     \n",
      "\n",
      "    \n",
      "    def modulus (self, A):\n",
      "        \n",
      "        B = np.copy(A)\n",
      "        p1 = B.view('uint8')       \n",
      "        p = p1[::-1]\n",
      "        p = self.remove_0(p)\n",
      "        Pl = self.Polynomial.view('uint8')\n",
      "        Polynomial = Pl[::-1]\n",
      "        Polynomial = self.remove_0(Polynomial)\n",
      "        pf_bit_pos = gmpy2.bit_length(int(Polynomial[0]))\n",
      "       \n",
      "        p1 = ( Polynomial >> (pf_bit_pos-1) ) & 0xff\n",
      "        p2 = ( Polynomial << (9 - pf_bit_pos) ) & 0xff\n",
      "        p1 = np.append(p1, 0)\n",
      "        p2 = np.append(0, p2)\n",
      "        pr = p1 ^ p2 & 0xff\n",
      "      \n",
      "        while len(p) >= len(Polynomial):\n",
      "            #print p\n",
      "            if len(p) > len(Polynomial):\n",
      "                red_poly = self.Polly_table[p[0]]\n",
      "                for j,k in zip(red_poly, self.Polly_index):\n",
      "                    if j != 0:\n",
      "                        p[k] ^= j           \n",
      "                p = p[1:]\n",
      "                while p[0] == 0:\n",
      "                    if len(p) == 1:\n",
      "                        break\n",
      "                    p = p[1:]\n",
      "            else:               \n",
      "                f_bit_pos = gmpy2.bit_length(int(p[0]))\n",
      "                if f_bit_pos < pf_bit_pos:\n",
      "                    break               \n",
      "\n",
      "                p1 = pr << (f_bit_pos -1) & 0xff\n",
      "                p2 = pr >> (9 - f_bit_pos) & 0xff          \n",
      "                p1 = np.append(0, p1)\n",
      "                p2 = np.append(p2, 0)\n",
      "                pp = p1 ^ p2\n",
      "                pp = pp[1:]\n",
      "                if pp[-1] == 0:\n",
      "                    pp = pp[:-1]\n",
      "                pp = p[:len(pp)] ^ pp\n",
      "                p = np.append(pp, p[len(pp):])\n",
      "                p = self.remove_0(p)\n",
      "                     \n",
      "           \n",
      "        p = p[::-1]\n",
      "        q = np.append( p,np.zeros(4 - len(p)%4, dtype=np.int8))\n",
      "        q = np.array(q, dtype='uint8')\n",
      "        q = np.getbuffer(q)\n",
      "        q = np.frombuffer(q, dtype='uint32')\n",
      "              \n",
      "\n",
      "        return  q     \n",
      "    \n",
      "    \n",
      "    def bin_inverse (self, A):\n",
      "        A =  self.str2nparray(A)\n",
      "        return self.inverse1(A)\n",
      "    \n",
      "    \n",
      "    \n",
      "    def inverse1(self,A):\n",
      "      \n",
      "        sq=A\n",
      "        array=[]\n",
      "        sq_array=[]\n",
      "        p=self.Polynomial.tolist()\n",
      "                 \n",
      "        while p[-1] == 0:\n",
      "            if len(p) == 1:\n",
      "                break\n",
      "            p = p[:-1]\n",
      "        length=len(p)*32-32+gmpy2.bit_length(p[-1])-2\n",
      "        leng=2**(length+1)-2\n",
      "      \n",
      "        \n",
      "        for i in range(length):\n",
      "           \n",
      "            sq=self.square(sq)\n",
      "          \n",
      "            res=self.modulus(sq)\n",
      "            \n",
      "            sq=res\n",
      "            sq_array.append(res)\n",
      "      \n",
      "                    \n",
      "        sq_array=np.array(sq_array)\n",
      "        for i,v in enumerate(sq_array):    \n",
      "            if(i!=len(sq_array)-1):\n",
      "                a=sq_array[i]\n",
      "                b=sq_array[i+1]\n",
      "                s=self.multiplication(a,b)\n",
      "                mod_res=self.modulus(s)\n",
      "               \n",
      "                sq_array[i+1]=mod_res             \n",
      "        a=sq_array[-1]\n",
      "        b=(A)\n",
      "        s=self.multiplication(a,b)        \n",
      "        mod_res=self.modulus(s)\n",
      "          \n",
      "        return sq_array[-1]\n",
      "    \n",
      "    \n",
      "    \n",
      "    \n",
      "    \n",
      "    \n",
      "    def inverse_baumer(self,A):\n",
      "        p=self.Polynomial.tolist()\n",
      "                 \n",
      "        while p[-1] == 0:\n",
      "            if len(p) == 1:\n",
      "                break\n",
      "            p = p[:-1]\n",
      "        length=len(p)*32-32+gmpy2.bit_length(p[-1])-1\n",
      "        print length\n",
      "        A=self.str2nparray(A)\n",
      "        \n",
      "        array=self.baumer_chain(length)\n",
      "        print array\n",
      "        C=self.inverse_baumer_chain(A,array)\n",
      "        \n",
      "        return C\n",
      "    \n",
      "    \n",
      "    \n",
      "    \n",
      "    def inverse_baumer_chain(self,A,array):\n",
      "        count=0\n",
      "        inv_array=np.array([A],dtype='uint32')\n",
      "        prev=np.copy(A)\n",
      "        #print array\n",
      "        for i in range(0,len(array)-1,2):\n",
      "            #print i\n",
      "            x=array[i]\n",
      "            y=array[i+1]\n",
      "            var=y           #how many time squaring\n",
      "            #print var,x,y\n",
      "            n=prev\n",
      "            while(var!=0):\n",
      "               \n",
      "                var=var-1\n",
      "                sqr=field.modulus(field.square(n))\n",
      "                n=sqr\n",
      "                #break\n",
      "            \n",
      "        \n",
      "            \n",
      "            if(y==1):\n",
      "                f=A\n",
      "            else:\n",
      "                f=prev\n",
      "            #print f,d\n",
      "            mul=self.modulus(self.multiplication(f,sqr))\n",
      "            count+=1\n",
      "            prev=mul\n",
      "            \n",
      "            \n",
      "        final=self.modulus(self.square(prev))\n",
      "        print \"number of multiplication\",count   \n",
      "            \n",
      "                \n",
      "            \n",
      "            \n",
      "        #print prev   \n",
      "            #print x,y\n",
      "        return final\n",
      "    \n",
      "    \n",
      "    \n",
      "    \n",
      "    \n",
      "    \n",
      "    \n",
      "    \n",
      "    def baumer_chain(self,length):\n",
      "        \n",
      "        n=length\n",
      "        print \"len\",n\n",
      "        a=np.array([],dtype=int)\n",
      "        n=(n-1)\n",
      "        while(n):\n",
      "            if(n%2==0):\n",
      "                a=np.append(n,a)\n",
      "                n=n/2\n",
      "            else:\n",
      "                a=np.append(n,a)\n",
      "                n=n-1\n",
      "\n",
      "        #print a\n",
      "        array=np.array([],dtype=int)\n",
      "        for i in a:\n",
      "            if(i>1):\n",
      "                if(i%2==0):\n",
      "                    array=np.append(array,(i/2,i/2))\n",
      "                else:\n",
      "                    array=np.append(array,(i-1,1))\n",
      "        \n",
      "       \n",
      "        return array\n",
      "        \n",
      "        \n",
      "    \n",
      "    \n",
      "    \n",
      "    \n",
      "    \n",
      "    \n",
      "    \n",
      " \n",
      "\n",
      "    \n",
      "    \n",
      "    \n",
      "    \n",
      "\n",
      "   "
     ],
     "language": "python",
     "metadata": {},
     "outputs": [],
     "prompt_number": 1
    },
    {
     "cell_type": "code",
     "collapsed": false,
     "input": [
      "%%timeit\n",
      "field=Binfield('020000000000000000000000000201')\n",
      "A='198745678123456feca334434436444e'\n",
      "B='12345678924532d45d987664546f'\n",
      "C=field.inverse_baumer(A)\n",
      "#A=field.str2nparray(A)\n",
      "#field.modulus(field.multiplication(C,A))\n",
      "#print C\n",
      "#field=Binfield('20000000000000000000000000201')\n",
      "#field.Euclidian_Algorithm('0200000000000000000000000000000000000000000000000000000000000000000000','010000000000000000000000000000000000000000000000000000010000000000000b')\n",
      "#print field.modulus(field.bin_mul(A,B))"
     ],
     "language": "python",
     "metadata": {},
     "outputs": [
      {
       "output_type": "stream",
       "stream": "stdout",
       "text": [
        "len 113\n",
        "number of multiplication"
       ]
      },
      {
       "output_type": "stream",
       "stream": "stdout",
       "text": [
        " 8\n",
        "len 113\n",
        "number of multiplication"
       ]
      },
      {
       "output_type": "stream",
       "stream": "stdout",
       "text": [
        " 8\n",
        "len 113\n",
        "number of multiplication"
       ]
      },
      {
       "output_type": "stream",
       "stream": "stdout",
       "text": [
        " 8\n",
        "len 113\n",
        "number of multiplication"
       ]
      },
      {
       "output_type": "stream",
       "stream": "stdout",
       "text": [
        " 8\n",
        "1 loops, best of 3: 857 ms per loop\n"
       ]
      }
     ],
     "prompt_number": 35
    },
    {
     "cell_type": "code",
     "collapsed": false,
     "input": [
      "%%timeit\n",
      "field=Binfield('020000000000000000000000000201')\n",
      "A='198745678123456feca334434436444e'\n",
      "B='12345678924532d45d987664546f'\n",
      "C=field.bin_inverse(A)"
     ],
     "language": "python",
     "metadata": {},
     "outputs": [
      {
       "output_type": "stream",
       "stream": "stdout",
       "text": [
        "1 loops, best of 3: 756 ms per loop\n"
       ]
      }
     ],
     "prompt_number": 36
    },
    {
     "cell_type": "code",
     "collapsed": false,
     "input": [
      "%%timeit\n",
      "field=Binfield('00800000000000000000004000000000000000000000000000000000000001')\n",
      "A='198745678123456feca334434436444e334'\n",
      "B='12345678924532d45d987664546ffdee33'\n",
      "\n",
      "C=field.inverse_baumer(A)\n",
      "#A=field.str2nparray(A)\n",
      "#field.modulus(field.multiplication(C,A))"
     ],
     "language": "python",
     "metadata": {},
     "outputs": [
      {
       "output_type": "stream",
       "stream": "stdout",
       "text": [
        "len 239\n",
        "number of multiplication"
       ]
      },
      {
       "output_type": "stream",
       "stream": "stdout",
       "text": [
        " 12\n",
        "len 239\n",
        "number of multiplication"
       ]
      },
      {
       "output_type": "stream",
       "stream": "stdout",
       "text": [
        " 12\n",
        "len 239\n",
        "number of multiplication"
       ]
      },
      {
       "output_type": "stream",
       "stream": "stdout",
       "text": [
        " 12\n",
        "len 239\n",
        "number of multiplication"
       ]
      },
      {
       "output_type": "stream",
       "stream": "stdout",
       "text": [
        " 12\n",
        "1 loops, best of 3: 1.46 s per loop\n"
       ]
      }
     ],
     "prompt_number": 37
    },
    {
     "cell_type": "code",
     "collapsed": false,
     "input": [
      "%%timeit\n",
      "field=Binfield('00800000000000000000004000000000000000000000000000000000000001')\n",
      "A='198745678123456feca334434436444e334'\n",
      "B='12345678924532d45d987664546ffdee33'\n",
      "C=field.bin_inverse(A)"
     ],
     "language": "python",
     "metadata": {},
     "outputs": [
      {
       "output_type": "stream",
       "stream": "stdout",
       "text": [
        "1 loops, best of 3: 4.33 s per loop\n"
       ]
      }
     ],
     "prompt_number": 38
    },
    {
     "cell_type": "code",
     "collapsed": false,
     "input": [
      "len('800000000000000000004000000000000000000000000000000000000001')"
     ],
     "language": "python",
     "metadata": {},
     "outputs": [
      {
       "metadata": {},
       "output_type": "pyout",
       "prompt_number": 39,
       "text": [
        "60"
       ]
      }
     ],
     "prompt_number": 39
    },
    {
     "cell_type": "code",
     "collapsed": false,
     "input": [
      "%%timeit\n",
      "field=Binfield('0800000000000000000000000000000000000000c9')\n",
      "A='198745678123434343456feca334436dedead334'\n",
      "B='12345678924532d444435d987664546ffdee33edb'\n",
      "C=field.inverse_baumer(A)\n",
      "\n",
      "#A=field.str2nparray(A)\n",
      "#field.modulus(field.multiplication(C,A))"
     ],
     "language": "python",
     "metadata": {},
     "outputs": [
      {
       "output_type": "stream",
       "stream": "stdout",
       "text": [
        "len 163\n",
        "number of multiplication"
       ]
      },
      {
       "output_type": "stream",
       "stream": "stdout",
       "text": [
        " 9\n",
        "len 163\n",
        "number of multiplication"
       ]
      },
      {
       "output_type": "stream",
       "stream": "stdout",
       "text": [
        " 9\n",
        "len 163\n",
        "number of multiplication"
       ]
      },
      {
       "output_type": "stream",
       "stream": "stdout",
       "text": [
        " 9\n",
        "len 163\n",
        "number of multiplication"
       ]
      },
      {
       "output_type": "stream",
       "stream": "stdout",
       "text": [
        " 9\n",
        "1 loops, best of 3: 1.13 s per loop\n"
       ]
      }
     ],
     "prompt_number": 40
    },
    {
     "cell_type": "code",
     "collapsed": false,
     "input": [
      "%%timeit\n",
      "field=Binfield('0800000000000000000000000000000000000000c9')\n",
      "A='198745678123434343456feca334436dedead334'\n",
      "B='12345678924532d444435d987664546ffdee33edb'\n",
      "C=field.bin_inverse(A)\n"
     ],
     "language": "python",
     "metadata": {},
     "outputs": [
      {
       "output_type": "stream",
       "stream": "stdout",
       "text": [
        "1 loops, best of 3: 2.62 s per loop\n"
       ]
      }
     ],
     "prompt_number": 41
    },
    {
     "cell_type": "code",
     "collapsed": false,
     "input": [
      "%%timeit\n",
      "field=Binfield('080000000000000000000000000000000000000000000000000000000000000000000000000000000000000000000000000000000000000000000000000000000000000000000425')\n",
      "A='198745678123456feca334434436444e4443ad334'\n",
      "B='12345678924532d45d987664546ffdeeda33edb'\n",
      "C=field.inverse_baumer(A)\n",
      "\n",
      "#A=field.str2nparray(A)\n",
      "#field.modulus(field.multiplication(C,A))"
     ],
     "language": "python",
     "metadata": {},
     "outputs": [
      {
       "output_type": "stream",
       "stream": "stdout",
       "text": [
        "len 571\n",
        "number of multiplication"
       ]
      },
      {
       "output_type": "stream",
       "stream": "stdout",
       "text": [
        " 13\n",
        "len 571\n",
        "number of multiplication"
       ]
      },
      {
       "output_type": "stream",
       "stream": "stdout",
       "text": [
        " 13\n",
        "len 571\n",
        "number of multiplication"
       ]
      },
      {
       "output_type": "stream",
       "stream": "stdout",
       "text": [
        " 13\n",
        "len 571\n",
        "number of multiplication"
       ]
      },
      {
       "output_type": "stream",
       "stream": "stdout",
       "text": [
        " 13\n",
        "1 loops, best of 3: 2.61 s per loop\n"
       ]
      }
     ],
     "prompt_number": 42
    },
    {
     "cell_type": "code",
     "collapsed": false,
     "input": [
      "%%timeit\n",
      "field=Binfield('080000000000000000000000000000000000000000000000000000000000000000000000000000000000000000000000000000000000000000000000000000000000000000000425')\n",
      "A='198745678123456feca334434436444e4443ad334'\n",
      "B='12345678924532d45d987664546ffdeeda33edb'\n",
      "C=field.bin_inverse(A)"
     ],
     "language": "python",
     "metadata": {},
     "outputs": [
      {
       "output_type": "stream",
       "stream": "stdout",
       "text": [
        "1 loops, best of 3: 1min 8s per loop\n"
       ]
      }
     ],
     "prompt_number": 43
    },
    {
     "cell_type": "code",
     "collapsed": false,
     "input": [
      "%%timeit\n",
      "field=Binfield('010000000000000000000000000000000800000000000000000007')\n",
      "A='198745678123456feca334434436444e4443ad334'\n",
      "B='12345678924532d45d987664546ffdeeda33edb'\n",
      "C=field.inverse_baumer(A)\n",
      "\n",
      "#A=field.str2nparray(A)\n",
      "#field.modulus(field.multiplication(C,A))"
     ],
     "language": "python",
     "metadata": {},
     "outputs": [
      {
       "output_type": "stream",
       "stream": "stdout",
       "text": [
        "len 208\n",
        "number of multiplication"
       ]
      },
      {
       "output_type": "stream",
       "stream": "stdout",
       "text": [
        " 12\n",
        "len 208\n",
        "number of multiplication"
       ]
      },
      {
       "output_type": "stream",
       "stream": "stdout",
       "text": [
        " 12\n",
        "len 208\n",
        "number of multiplication"
       ]
      },
      {
       "output_type": "stream",
       "stream": "stdout",
       "text": [
        " 12\n",
        "len 208\n",
        "number of multiplication"
       ]
      },
      {
       "output_type": "stream",
       "stream": "stdout",
       "text": [
        " 12\n",
        "1 loops, best of 3: 1.38 s per loop\n"
       ]
      }
     ],
     "prompt_number": 44
    },
    {
     "cell_type": "code",
     "collapsed": false,
     "input": [
      "%%timeit\n",
      "field=Binfield('010000000000000000000000000000000800000000000000000007')\n",
      "A='198745678123456feca334434436444e4443ad334'\n",
      "B='12345678924532d45d987664546ffdeeda33edb'\n",
      "C=field.bin_inverse(A)"
     ],
     "language": "python",
     "metadata": {},
     "outputs": [
      {
       "output_type": "stream",
       "stream": "stdout",
       "text": [
        "1 loops, best of 3: 3.73 s per loop\n"
       ]
      }
     ],
     "prompt_number": 45
    },
    {
     "cell_type": "code",
     "collapsed": false,
     "input": [
      "%%timeit\n",
      "field=Binfield('010000000000000000000000000000000000000000000000000000000000000000000000000807')\n",
      "A='198745678de4516171123456feca334434436444e4443ad334'\n",
      "B='12345678924532d45d192782728987664546ffdeeda33edb'\n",
      "C=field.inverse_baumer(A)\n",
      "#A=field.str2nparray(A)\n",
      "#field.modulus(field.multiplication(C,A))"
     ],
     "language": "python",
     "metadata": {},
     "outputs": [
      {
       "output_type": "stream",
       "stream": "stdout",
       "text": [
        "len 304\n",
        "number of multiplication"
       ]
      },
      {
       "output_type": "stream",
       "stream": "stdout",
       "text": [
        " 13\n",
        "len 304\n",
        "number of multiplication"
       ]
      },
      {
       "output_type": "stream",
       "stream": "stdout",
       "text": [
        " 13\n",
        "len 304\n",
        "number of multiplication"
       ]
      },
      {
       "output_type": "stream",
       "stream": "stdout",
       "text": [
        " 13\n",
        "len 304\n",
        "number of multiplication"
       ]
      },
      {
       "output_type": "stream",
       "stream": "stdout",
       "text": [
        " 13\n",
        "1 loops, best of 3: 2.05 s per loop\n"
       ]
      }
     ],
     "prompt_number": 46
    },
    {
     "cell_type": "code",
     "collapsed": false,
     "input": [
      "%%timeit\n",
      "field=Binfield('010000000000000000000000000000000000000000000000000000000000000000000000000807')\n",
      "A='198745678de4516171123456feca334434436444e4443ad334'\n",
      "B='12345678924532d45d192782728987664546ffdeeda33edb'\n",
      "C=field.bin_inverse(A)"
     ],
     "language": "python",
     "metadata": {},
     "outputs": [
      {
       "output_type": "stream",
       "stream": "stdout",
       "text": [
        "1 loops, best of 3: 13.2 s per loop\n"
       ]
      }
     ],
     "prompt_number": 47
    },
    {
     "cell_type": "code",
     "collapsed": false,
     "input": [
      "%%timeit\n",
      "field=Binfield('00800000000000000000000000000000000000000000000201')\n",
      "A='198745678123456feca334434436444ead3340998777'\n",
      "B='12345678924532d45d987664546ffdee33ed897643b'\n",
      "C=field.inverse_baumer(A)\n",
      "\n",
      "#A=field.str2nparray(A)\n",
      "#field.modulus(field.multiplication(C,A))"
     ],
     "language": "python",
     "metadata": {},
     "outputs": [
      {
       "output_type": "stream",
       "stream": "stdout",
       "text": [
        "len 191\n",
        "number of multiplication"
       ]
      },
      {
       "output_type": "stream",
       "stream": "stdout",
       "text": [
        " 12\n",
        "len 191\n",
        "number of multiplication"
       ]
      },
      {
       "output_type": "stream",
       "stream": "stdout",
       "text": [
        " 12\n",
        "len 191\n",
        "number of multiplication"
       ]
      },
      {
       "output_type": "stream",
       "stream": "stdout",
       "text": [
        " 12\n",
        "len 191\n",
        "number of multiplication"
       ]
      },
      {
       "output_type": "stream",
       "stream": "stdout",
       "text": [
        " 12\n",
        "1 loops, best of 3: 1.35 s per loop\n"
       ]
      }
     ],
     "prompt_number": 48
    },
    {
     "cell_type": "code",
     "collapsed": false,
     "input": [
      "%%timeit\n",
      "field=Binfield('00800000000000000000000000000000000000000000000201')\n",
      "A='198745678123456feca334434436444ead3340998777'\n",
      "B='12345678924532d45d987664546ffdee33ed897643b'\n",
      "C=field.bin_inverse(A)"
     ],
     "language": "python",
     "metadata": {},
     "outputs": [
      {
       "output_type": "stream",
       "stream": "stdout",
       "text": [
        "1 loops, best of 3: 3.05 s per loop\n"
       ]
      }
     ],
     "prompt_number": 49
    },
    {
     "cell_type": "code",
     "collapsed": false,
     "input": [
      "%%timeit\n",
      "field=Binfield('02000000000000000000000000000000000000000000000000000000000000000000000000000000008000000000000000000001')\n",
      "A='198745678123456feca334434354354354defcab7612348675657554368444e'\n",
      "B='12345678924532d45d98765984556757465475878554332bde64daefacb546f'\n",
      "C=field.inverse_baumer(A)\n",
      "#A=field.str2nparray(A)\n",
      "#field.modulus(field.multiplication(C,A))"
     ],
     "language": "python",
     "metadata": {},
     "outputs": [
      {
       "output_type": "stream",
       "stream": "stdout",
       "text": [
        "len 409\n",
        "number of multiplication"
       ]
      },
      {
       "output_type": "stream",
       "stream": "stdout",
       "text": [
        " 11\n",
        "len 409\n",
        "number of multiplication"
       ]
      },
      {
       "output_type": "stream",
       "stream": "stdout",
       "text": [
        " 11\n",
        "len 409\n",
        "number of multiplication"
       ]
      },
      {
       "output_type": "stream",
       "stream": "stdout",
       "text": [
        " 11\n",
        "len 409\n",
        "number of multiplication"
       ]
      },
      {
       "output_type": "stream",
       "stream": "stdout",
       "text": [
        " 11\n",
        "1 loops, best of 3: 2.04 s per loop\n"
       ]
      }
     ],
     "prompt_number": 50
    },
    {
     "cell_type": "code",
     "collapsed": false,
     "input": [
      "%%timeit\n",
      "field=Binfield('02000000000000000000000000000000000000000000000000000000000000000000000000000000008000000000000000000001')\n",
      "A='198745678123456feca334434354354354defcab7612348675657554368444e'\n",
      "B='12345678924532d45d98765984556757465475878554332bde64daefacb546f'\n",
      "C=field.bin_inverse(A)"
     ],
     "language": "python",
     "metadata": {},
     "outputs": [
      {
       "output_type": "stream",
       "stream": "stdout",
       "text": [
        "1 loops, best of 3: 20.3 s per loop\n"
       ]
      }
     ],
     "prompt_number": 51
    },
    {
     "cell_type": "code",
     "collapsed": false,
     "input": [
      "%%timeit\n",
      "field=Binfield('800000000000000000000000000000000000000000000000000000000000000000000000100000000000000001')\n",
      "A='198745678123456feca334434354354354defca242deab7612348675657554368444e'\n",
      "B='12345678924532d45d9876598455675746547adefa25878554332bde64daefacb546f'\n",
      "C=field.inverse_baumer(A)\n",
      "#A=field.str2nparray(A)\n",
      "#field.modulus(field.multiplication(C,A))"
     ],
     "language": "python",
     "metadata": {},
     "outputs": [
      {
       "output_type": "stream",
       "stream": "stdout",
       "text": [
        "len 359\n",
        "number of multiplication"
       ]
      },
      {
       "output_type": "stream",
       "stream": "stdout",
       "text": [
        " 12\n",
        "len 359\n",
        "number of multiplication"
       ]
      },
      {
       "output_type": "stream",
       "stream": "stdout",
       "text": [
        " 12\n",
        "len 359\n",
        "number of multiplication"
       ]
      },
      {
       "output_type": "stream",
       "stream": "stdout",
       "text": [
        " 12\n",
        "len 359\n",
        "number of multiplication"
       ]
      },
      {
       "output_type": "stream",
       "stream": "stdout",
       "text": [
        " 12\n",
        "1 loops, best of 3: 2.11 s per loop\n"
       ]
      }
     ],
     "prompt_number": 52
    },
    {
     "cell_type": "code",
     "collapsed": false,
     "input": [
      "%%timeit\n",
      "field=Binfield('800000000000000000000000000000000000000000000000000000000000000000000000100000000000000001')\n",
      "A='198745678123456feca334434354354354defca242deab7612348675657554368444e'\n",
      "B='12345678924532d45d9876598455675746547adefa25878554332bde64daefacb546f'\n",
      "C=field.bin_inverse(A)"
     ],
     "language": "python",
     "metadata": {},
     "outputs": [
      {
       "output_type": "stream",
       "stream": "stdout",
       "text": [
        "1 loops, best of 3: 16.6 s per loop\n"
       ]
      }
     ],
     "prompt_number": 53
    },
    {
     "cell_type": "code",
     "collapsed": false,
     "input": [
      "field=Binfield('0800000000000000000000000000000000000000000000000000000000000000000010a1')\n",
      "A='0503213f78ca44883f1a3b8162f188e553cd265f23c1567a16876913b0c2ac2458492836'\n",
      "C=field.inverse_baumer(A)\n",
      "A=field.str2nparray(A)\n",
      "field.modulus(field.multiplication(C,A))\n"
     ],
     "language": "python",
     "metadata": {},
     "outputs": [
      {
       "output_type": "stream",
       "stream": "stdout",
       "text": [
        "283\n",
        "len 283\n",
        "[0x1L 0x1L 0x2L 0x2L 0x4L 0x4L 0x8L 0x8L 0x10L 0x1L 0x11L 0x11L 0x22L 0x1L\n",
        " 0x23L 0x23L 0x46L 0x46L 0x8cL 0x1L 0x8dL 0x8dL]\n",
        "number of multiplication"
       ]
      },
      {
       "output_type": "stream",
       "stream": "stdout",
       "text": [
        " 11\n"
       ]
      },
      {
       "metadata": {},
       "output_type": "pyout",
       "prompt_number": 2,
       "text": [
        "array([0x1L], dtype=uint32)"
       ]
      }
     ],
     "prompt_number": 2
    },
    {
     "cell_type": "code",
     "collapsed": false,
     "input": [],
     "language": "python",
     "metadata": {},
     "outputs": []
    }
   ],
   "metadata": {}
  }
 ]
}
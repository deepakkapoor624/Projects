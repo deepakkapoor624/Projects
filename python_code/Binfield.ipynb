{
 "metadata": {
  "name": "",
  "signature": "sha256:37daf0c270b0dbda45bf8d537e408d219a5e27872add1048dba030b3495382ad"
 },
 "nbformat": 3,
 "nbformat_minor": 0,
 "worksheets": [
  {
   "cells": [
    {
     "cell_type": "markdown",
     "metadata": {},
     "source": [
      "#Class for Binary Field\n",
      "## Functions"
     ]
    },
    {
     "cell_type": "markdown",
     "metadata": {},
     "source": [
      "###Initialise Binary Field\n",
      "    Polynomial: Primitive polynomial"
     ]
    },
    {
     "cell_type": "markdown",
     "metadata": {},
     "source": [
      "### Xor two numbers in given binary Field\n",
      "    A: First Number\n",
      "    B: Second Number"
     ]
    },
    {
     "cell_type": "code",
     "collapsed": false,
     "input": [
      "import binascii\n",
      "import numpy as np\n",
      "import gmpy2\n",
      "np.set_printoptions(formatter={'int':bin})\n",
      "##\n",
      "# Class for Binary Field\n",
      "# \n",
      "class Binfield:\n",
      "    \n",
      "    def mul_2 (self,a, b):\n",
      "        a1 = (a&2)>>1\n",
      "        a0 = (a&1)\n",
      "        b1 = (b&2)>>1\n",
      "        b0 = (b&1)\n",
      "\n",
      "        d2 = (a1 & b1)&1\n",
      "        d1 = ((a1 & b0) ^ (a0 & b1))&1\n",
      "        d0 = (a0 & b0)&1\n",
      "        return d2<<2 | d1 <<1 | d0\n",
      "\n",
      "    def mul_4 (self,a, b):\n",
      "        a1 = (a&0xC)>>2\n",
      "        a0 = (a&0x3)\n",
      "        b1 = (b&0xc)>>2\n",
      "        b0 = (b&0x3)\n",
      "\n",
      "        d2 = self.mul_2(a1, b1)\n",
      "        d1 = (self.mul_2(a1, b0) ^ self.mul_2(a0, b1))\n",
      "        d0 = self.mul_2(a0, b0)\n",
      "        return d2<<4 ^ d1 <<2 ^ d0\n",
      "\n",
      "    def mul_8 (self,a, b):\n",
      "        a1 = (a&0xf0)>>4\n",
      "        a0 = (a&0xf)\n",
      "        b1 = (b&0xf0)>>4\n",
      "        b0 = (b&0xf)\n",
      "\n",
      "        d2 = self.mul_4(a1, b1)\n",
      "        d1 = (self.mul_4(a1, b0) ^ self.mul_4(a0, b1))\n",
      "        d0 = self.mul_4(a0, b0)\n",
      "        return d2<<8 ^ d1 <<4 ^ d0\n",
      "    \n",
      "    def mul_8_lut (self,a, b):\n",
      "        a1 = (a&0xf0)>>4\n",
      "        a0 = (a&0xf)\n",
      "        b1 = (b&0xf0)>>4\n",
      "        b0 = (b&0xf)\n",
      "\n",
      "        d2 = self.MUL_LUT[a1<<4 | b1]\n",
      "        d1 = self.MUL_LUT[a1<<4 | b0] ^ self.MUL_LUT[a0<<4 | b1]\n",
      "        d0 = self.MUL_LUT[a0<<4 | b0]\n",
      "        #print \"@@@@@@@@@\"\n",
      "        #print d0,d1,d2\n",
      "        return d2<<8 ^ d1 <<4 ^ d0\n",
      "    \n",
      "    def mul_16 (self,a, b):\n",
      "        a1 = (a&0xff00)>>8\n",
      "        a0 = (a&0xff)\n",
      "        b1 = (b&0xff00)>>8\n",
      "        b0 = (b&0xff)\n",
      "\n",
      "        d2 = self.mul_8_lut(a1, b1)\n",
      "        #d1 = self.mul_8_lut(a1, b0) ^ self.mul_8_lut(a0, b1))\n",
      "        d0 = self.mul_8_lut(a0, b0)\n",
      "        d1 = self.mul_8_lut((a1^a0), (b1^b0)) ^ d0 ^ d2\n",
      "        return d2<<16 ^ d1 <<8 ^ d0\n",
      "    \n",
      "    #def mul_32 (self,a, b):\n",
      "     #   a1 = (a&0xffff0000)>>16\n",
      "      #  a0 = (a&0xffff)\n",
      "       # b1 = (b&0xffff0000)>>16\n",
      "        #b0 = (b&0xffff)\n",
      "\n",
      "        #d2 = self.mul_16(a1, b1)\n",
      "        #d0 = self.mul_16(a0, b0)\n",
      "        #d1 = self.mul_16((a1^a0), (b1^b0)) ^ d0 ^ d2\n",
      "        #return d2<<32 ^ d1 <<16 ^ d0   \n",
      "    \n",
      "    \n",
      "    def mul_32 (self,a, b):\n",
      "        a3 = (a&0xff000000)>>24\n",
      "        a2 = (a&0xff0000)>>16\n",
      "        a1 = (a&0xff00)>>8\n",
      "        a0 = (a&0xff)\n",
      "        b3 = (b&0xff000000)>>24\n",
      "        b2 = (b&0xff0000)>>16\n",
      "        b1 = (b&0xff00)>>8\n",
      "        b0 = (b&0xff)\n",
      "        #print hex(a3),hex(a2),hex(a1),hex(a0),hex(b3),hex(b2),hex(b1),hex(b0)\n",
      "    \n",
      "        phi1=self.mul_8(a3,b3) ^ self.mul_8(a2,b2)\n",
      "        phi2=self.mul_8(a1,b1) ^ self.mul_8(a0,b0)\n",
      "        phi=phi1^phi2\n",
      "          \n",
      "        d6 = self.mul_8(a3,b3) \n",
      "        d5 = self.mul_8(a3^a2, b3^b2)^phi1 \n",
      "        d4 = (self.mul_8(a3^a1, b3^b1)^(phi1)^self.mul_8(a1,b1))\n",
      "        d3 = (self.mul_8(a3^a0, b3^b0)^self.mul_8(a2^a1, b2^b1)^phi)  \n",
      "        d2 = self.mul_8(a2^a0, b2^b0)^phi2^self.mul_8(a2,b2)\n",
      "        d1 = self.mul_8(a1^a0, b1^b0)^phi2 \n",
      "        d0 = self.mul_8(a0,b0)\n",
      "        #print bin(d0)\n",
      "        #print hex(d3),hex(d2),hex(d1),hex(d4),hex(d5),hex(d6),hex(phi1)\n",
      "        #r = np.array([d6<<16 ^ d5<<8 ^ d4 ^ (d3 & 0xff00)>> 8, (d3 & 0x00ff)<<24 ^ d2<<16 ^ d1<<8 ^ d0)\n",
      "        return  d6<<48 ^ d5<<40 ^ d4<<32 ^ d3<<24 ^ d2<<16 ^ d1<<8 ^ d0\n",
      "       \n",
      "    def mul_32_lut (self,a, b):\n",
      "            a3 = (a&0xff000000)>>24\n",
      "            a2 = (a&0xff0000)>>16\n",
      "            a1 = (a&0xff00)>>8\n",
      "            a0 = (a&0xff)\n",
      "            b3 = (b&0xff000000)>>24\n",
      "            b2 = (b&0xff0000)>>16\n",
      "            b1 = (b&0xff00)>>8\n",
      "            b0 = (b&0xff)\n",
      "            #print hex(a3),hex(a2),hex(a1),hex(a0),hex(b3),hex(b2),hex(b1),hex(b0)\n",
      "    \n",
      "            phi1=self.mul_8_lut(a3,b3) ^ self.mul_8_lut(a2,b2)\n",
      "            phi2=self.mul_8_lut(a1,b1) ^ self.mul_8_lut(a0,b0)\n",
      "            phi=phi1^phi2\n",
      "          \n",
      "            d6 = self.mul_8_lut(a3,b3) \n",
      "            d5 = self.mul_8_lut(a3^a2, b3^b2)^phi1 \n",
      "            d4 = (self.mul_8_lut(a3^a1, b3^b1)^(phi1)^self.mul_8_lut(a1,b1))\n",
      "            d3 = (self.mul_8_lut(a3^a0, b3^b0)^self.mul_8_lut(a2^a1, b2^b1)^phi)  \n",
      "            d2 = self.mul_8_lut(a2^a0, b2^b0)^phi2^self.mul_8_lut(a2,b2)\n",
      "            d1 = self.mul_8_lut(a1^a0, b1^b0)^phi2 \n",
      "            d0 = self.mul_8_lut(a0,b0)\n",
      "        #print bin(d0)\n",
      "        #print hex(d3),hex(d2),hex(d1),hex(d4),hex(d5),hex(d6),hex(phi1)\n",
      "        #r = np.array([d6<<16 ^ d5<<8 ^ d4 ^ (d3 & 0xff00)>> 8, (d3 & 0x00ff)<<24 ^ d2<<16 ^ d1<<8 ^ d0)\n",
      "            return  d6<<48 ^ d5<<40 ^ d4<<32 ^ d3<<24 ^ d2<<16 ^ d1<<8 ^ d0\n",
      "       \n",
      "    def mul_64 (self,a, b):\n",
      "        a1 = (a&0xffffffff00000000)>>32\n",
      "        a0 = (a&0xffffffff)\n",
      "        b1 = (b&0xffffffff00000000)>>32\n",
      "        b0 = (b&0xffffffff)\n",
      "        #print '@@@'\n",
      "        #print a1,a0,b1,b0\n",
      "\n",
      "        d2 = self.mul_32(a1, b1)\n",
      "        #print d2\n",
      "        d1 = (self.mul_32(a1, b0) ^ self.mul_32(a0, b1))\n",
      "        #print d1\n",
      "        d0 = self.mul_32(a0, b0)\n",
      "       # print type(d0)\n",
      "        #print d0,d1,d2\n",
      "        #print \"@@@@@\"\n",
      "        #print d0,d1,d2\n",
      "       \n",
      "        return d2<<64 ^ d1 <<32 ^ d0\n",
      "    \n",
      "    def mul_64_lut (self,a, b):\n",
      "        a1 = (a&0xffffffff00000000)>>32\n",
      "        a0 = (a&0xffffffff)\n",
      "        b1 = (b&0xffffffff00000000)>>32\n",
      "        b0 = (b&0xffffffff)\n",
      "        #print '@@@'\n",
      "        #print a1,a0,b1,b0\n",
      "\n",
      "        d2 = long(self.mul_32_lut(a1, b1))\n",
      "        #print d2\n",
      "        d1 = long(self.mul_32_lut(a1, b0)) ^ long(self.mul_32_lut(a0, b1))\n",
      "        #print d1\n",
      "        d0 = long(self.mul_32_lut(a0, b0))\n",
      "       # print type(d0)\n",
      "        #print d0,d1,d2\n",
      "        #print \"@@@@@\"\n",
      "        #print d0,d1,d2\n",
      "       \n",
      "        return d2<<64 ^ d1 <<32 ^ d0\n",
      "    \n",
      "    def mul_128_lut (self,a, b):\n",
      "        a1 = (a&0xffffffffffffffff0000000000000000)>>64\n",
      "        a0 = (a&0xffffffffffffffff)\n",
      "        b1 = (b&0xffffffffffffffff0000000000000000)>>64\n",
      "        b0 = (b&0xffffffffffffffff)\n",
      "\n",
      "        d2 = self.mul_64_lut(a1, b1)\n",
      "        d1 = (self.mul_64_lut(a1, b0) ^ self.mul_64_lut(a0, b1))\n",
      "        d0 = self.mul_64_lut(a0, b0)\n",
      "        #print d0,d1,d2\n",
      "       \n",
      "        return d2<<128 ^ d1 <<64 ^ d0\n",
      "    \n",
      "    \n",
      "    def mul_256 (self,a, b):\n",
      "            a1 = (a&0xffffffffffffffffffffffffffffffff00000000000000000000000000000000)>>128\n",
      "            a0 = (a&0xffffffffffffffffffffffffffffffff)\n",
      "            b1 = (b&0xffffffffffffffffffffffffffffffff00000000000000000000000000000000)>>128\n",
      "            b0 = (b&0xffffffffffffffffffffffffffffffff)\n",
      "\n",
      "            d2 = self.mul_128(a1, b1)\n",
      "            d1 = (self.mul_128(a1, b0) ^ self.mul_128(a0, b1))\n",
      "            d0 = self.mul_128(a0, b0)\n",
      "        #print d0,d1,d2\n",
      "       \n",
      "            return d2<<256 ^ d1 <<128 ^ d0\n",
      "\n",
      "    \n",
      "    def mul_128 (self,a, b):\n",
      "            a1 = (a&0xffffffffffffffff0000000000000000)>>64\n",
      "            a0 = (a&0xffffffffffffffff)\n",
      "            b1 = (b&0xffffffffffffffff0000000000000000)>>64\n",
      "            b0 = (b&0xffffffffffffffff)\n",
      "\n",
      "            d2 = self.mul_64(a1, b1)\n",
      "            d1 = (self.mul_64(a1, b0) ^ self.mul_64(a0, b1))\n",
      "            d0 = self.mul_64(a0, b0)\n",
      "        #print d0,d1,d2\n",
      "       \n",
      "            return d2<<128 ^ d1 <<64 ^ d0\n",
      "\n",
      "\n",
      "    \n",
      "    def __init__(self, Polynomial):\n",
      "        Polynomial = binascii.unhexlify(Polynomial)\n",
      "        Polynomial = np.fromstring(Polynomial, dtype='uint32') #\n",
      "        self.Polynomial = Polynomial;\n",
      "        LUT = np.array([0x00, 0x01, 0x4, 0x05, 0x10, 0x11, 0x14, 0x15, 0x40, 0x41, 0x44, 0x45, 0x50, 0x51, 0x54, 0x55])\n",
      "        a = np.arange(256)\n",
      "        b = [ LUT[a & 0x0F], LUT[(a & 0xF0)>> 4]]\n",
      "        c = []\n",
      "        for i in range(0,256):\n",
      "            a = (b[1][i] << 8) | b[0][i] \n",
      "            c.append(a)\n",
      "        self.LUT8 = np.array(c, dtype='uint16')\n",
      "        a = range(0,256)\n",
      "        MUL_LUT = []\n",
      "        for i in a:\n",
      "            b = self.mul_4((i&0xf0)>>4,i&0x0f)\n",
      "            #print bin((i&0xf0)>>4) ,bin(i&0x0f), bin(b)\n",
      "            MUL_LUT.append(b)\n",
      "        self.MUL_LUT = np.array(MUL_LUT)\n",
      "        self.gen_mod_table()\n",
      "        \n",
      "    \n",
      "    \n",
      "        #print self.Polynomial\n",
      "        \n",
      "    def xor (self, A, B):\n",
      "        return np.bitwise_xor(A, B)\n",
      "    \n",
      "    def bin_xor (self, A, B):\n",
      "        A = binascii.unhexlify(A)\n",
      "        A = np.fromstring(A, dtype='uint32') #\n",
      "        \n",
      "        B = binascii.unhexlify(B)\n",
      "        B = np.fromstring(B, dtype='uint32') #\n",
      "        return self.xor (A, B)\n",
      "    \n",
      "    def square (self, A):\n",
      "        b = A.view('uint8')\n",
      "        c = self.LUT8[b]\n",
      "        return c\n",
      "    \n",
      "    def bin_square (self, A):\n",
      "        A = binascii.unhexlify(A)\n",
      "        A = np.fromstring(A, dtype='uint32') #\n",
      "        return self.square(A)\n",
      "    \n",
      "    def multiply (self, A, B):\n",
      "        return A\n",
      "\n",
      "    def bin_multiply (self, A, B):\n",
      "        A = binascii.unhexlify(A)\n",
      "        A = np.fromstring(A, dtype='uint32') \n",
      "        B = binascii.unhexlify(B)\n",
      "        B = np.fromstring(B, dtype='uint32')\n",
      "        return self.multiply(A, B)        \n",
      "    \n",
      "    def gen_mod_table(self):\n",
      "        index = 0\n",
      "        p = self.Polynomial.view('uint8')\n",
      "        for i, v in enumerate(p):\n",
      "            if v != 0:\n",
      "                index = i\n",
      "                break\n",
      "        p = p[index:]\n",
      "        f_bit_pos = gmpy2.bit_scan1(int(p[0]))            \n",
      "        length = (len(p)-1) * 8 + f_bit_pos\n",
      "\n",
      "        #print len(p)\n",
      "        #print p\n",
      "        p = np.array(p) #value\n",
      "        first_byte = (p[-1]%p[0])<<7\n",
      "        #print \"@@@@\"\n",
      "        #print first_byte \n",
      "        p = p/p[0]\n",
      "        #print p\n",
      "        pr = np.append(p, first_byte)\n",
      "        print pr\n",
      "        pl1 = (pr << 7) & 0xFF\n",
      "        #print pl1\n",
      "        pl2 = np.append(np.delete(pr >> 1, 0),0)\n",
      "        #print pl2\n",
      "        pl = pl1 ^ pl2\n",
      "        #print \"@@@@\"\n",
      "        print  pl\n",
      "        \n",
      "        index = []\n",
      "        for i, a in enumerate(zip(pl[1:], pr[1:])):\n",
      "            #print a\n",
      "            if ((a[0] != 0) | (a[1] != 0)):\n",
      "                index.append(i+1)\n",
      "        \n",
      "        bit_poly_array = []\n",
      "        for j in range(8):\n",
      "            pp1 = (pr << j) & 0xFF\n",
      "            pp2 = np.append(np.delete(pr >> 8-j, 0),0)\n",
      "            shifted_plynomial = pp1 ^ pp2\n",
      "            shifted_plynomial_selected_index = shifted_plynomial[index]\n",
      "            bit_poly_array.append(shifted_plynomial_selected_index)\n",
      "            \n",
      "        Polly_table = []\n",
      "        for i in range(256):\n",
      "            val = np.zeros(len(bit_poly_array[0]),  dtype='uint8')\n",
      "            for j in range(8):\n",
      "                if ((i >> j) & 0x1):\n",
      "                    val = val ^ bit_poly_array[j]\n",
      "            Polly_table.append(val)        \n",
      "        \n",
      "        self.Polly_table = Polly_table\n",
      "        self.Polly_index = index\n",
      "        self.Polly_length = length\n",
      "        return 0\n",
      "    \n",
      "    def modulus (self, A):\n",
      "        p = A.view('uint8')\n",
      "        #print p\n",
      "        byte_len = self.Polly_length/8\n",
      "        bit_len  = self.Polly_length%8\n",
      "        print self.Polly_length\n",
      "        print byte_len, bit_len\n",
      "        for i,v in enumerate(p[0:-byte_len-1]):\n",
      "            red_poly = self.Polly_table[v]\n",
      "            #print red_poly\n",
      "            for j,k in zip(red_poly, self.Polly_index):\n",
      "                p[k+i] ^= j\n",
      "            p[i] = 0\n",
      "        \n",
      "        p = p[-byte_len-1:]\n",
      "        #print p\n",
      "        r = p[0] & (gmpy2.bit_mask(bit_len) ^ 0xFF)\n",
      "        red_poly = self.Polly_table[r]\n",
      "        #print red_poly\n",
      "        for j,k in zip(red_poly, self.Polly_index):\n",
      "            if (k < len(p)):\n",
      "                p[k] ^= j\n",
      "        p[0] ^= r \n",
      "        return p\n",
      "    \n",
      "    def bin_mod (self, A):\n",
      "        A = binascii.unhexlify(A)\n",
      "        A = np.fromstring(A, dtype='uint32') \n",
      "        print A\n",
      "        return self.modulus(A)"
     ],
     "language": "python",
     "metadata": {},
     "outputs": [],
     "prompt_number": 14
    },
    {
     "cell_type": "code",
     "collapsed": false,
     "input": [
      "np.set_printoptions(formatter={'int':hex})\n",
      "field=Binfield(\"ffffffff\")\n",
      "field.mul_256(0xffffdedeffffddddffffdedeffffdddd12345688ddddcccc12345688ddddcccc,0x12345688ddddcccc12345688ddddccccffffdedeffffddddffffdedeffffdddd)\n",
      "#hex(737292728813253486742306506277215429054147856917815799824747720360642930967549951433601130544570316664439251831018916754658619166005798893578826300349532)"
     ],
     "language": "python",
     "metadata": {},
     "outputs": [
      {
       "output_type": "stream",
       "stream": "stdout",
       "text": [
        "[0x1L 0x1L 0x1L 0x1L 0x0L]\n",
        "[0x80L 0x80L 0x80L 0x80L 0x0L]\n"
       ]
      },
      {
       "metadata": {},
       "output_type": "pyout",
       "prompt_number": 18,
       "text": [
        "737292728813253486742306506277215429054147856917815799824747720360642930967549951433601130544570316664439251831018916754658619166005798893578826300349532L"
       ]
      }
     ],
     "prompt_number": 18
    },
    {
     "cell_type": "code",
     "collapsed": false,
     "input": [
      "np.set_printoptions(formatter={'int':hex})\n",
      "field=Binfield(\"ffffffff\")\n",
      "field.mul_32(0xffffdede,0x12345688)"
     ],
     "language": "python",
     "metadata": {},
     "outputs": [
      {
       "output_type": "stream",
       "stream": "stdout",
       "text": [
        "[0x1L 0x1L 0x1L 0x1L 0x0L]\n",
        "[0x80L 0x80L 0x80L 0x80L 0x0L]\n",
        "0xff 0xff 0xde 0xde 0x12 0x34 0x56 0x88\n"
       ]
      },
      {
       "metadata": {},
       "output_type": "pyout",
       "prompt_number": 8,
       "text": [
        "1014382838110567920"
       ]
      }
     ],
     "prompt_number": 8
    },
    {
     "cell_type": "code",
     "collapsed": false,
     "input": [
      "np.set_printoptions(formatter={'int':hex})\n",
      "A = \"0000000000005601\"\n",
      "#A = 0x0000000000005601\n",
      "A = binascii.unhexlify(A)\n",
      "A = np.fromstring(A, dtype='uint16')\n",
      "#A = np.fromstring(A, dtype='uint64')\n",
      "print A\n"
     ],
     "language": "python",
     "metadata": {},
     "outputs": [
      {
       "output_type": "stream",
       "stream": "stdout",
       "text": [
        "[0x0 0x0 0x0 0x156]\n"
       ]
      }
     ],
     "prompt_number": 39
    },
    {
     "cell_type": "code",
     "collapsed": false,
     "input": [
      "bin(0b11<<7)"
     ],
     "language": "python",
     "metadata": {},
     "outputs": [
      {
       "metadata": {},
       "output_type": "pyout",
       "prompt_number": 41,
       "text": [
        "'0b110000000'"
       ]
      }
     ],
     "prompt_number": 41
    },
    {
     "cell_type": "code",
     "collapsed": false,
     "input": [
      "hex(737292728813253486742306506277215429054147856917815799824747720360642930967549951433601130544570316664439251831018916754658619166005798893578826300349532)"
     ],
     "language": "python",
     "metadata": {},
     "outputs": [
      {
       "metadata": {},
       "output_type": "pyout",
       "prompt_number": 19,
       "text": [
        "'0xe13cfd15e8dad2e73435d3e49495c5c5a429f941ecdbc3a7747593a48485d5d5a429f941ecdbc3a7747593a48485d5d0e13cfd15e8dad2e73435d3e49495c5cL'"
       ]
      }
     ],
     "prompt_number": 19
    },
    {
     "cell_type": "code",
     "collapsed": false,
     "input": [
      "hex(16549396763055453886504023418294030184)"
     ],
     "language": "python",
     "metadata": {},
     "outputs": [
      {
       "metadata": {},
       "output_type": "pyout",
       "prompt_number": 133,
       "text": [
        "'0xc734c41c8274dc270b5e7eb3a1ccf68L'"
       ]
      }
     ],
     "prompt_number": 133
    },
    {
     "cell_type": "code",
     "collapsed": false,
     "input": [
      "len('c734c41c8274dc270b5e7eb3a1ccf68')"
     ],
     "language": "python",
     "metadata": {},
     "outputs": [
      {
       "metadata": {},
       "output_type": "pyout",
       "prompt_number": 135,
       "text": [
        "31"
       ]
      }
     ],
     "prompt_number": 135
    },
    {
     "cell_type": "code",
     "collapsed": false,
     "input": [
      "import matplotlib.pyplot as plt\n",
      "x=np.array[1,2,3]\n",
      "y=np.array[1,2,3]\n",
      "plot(2.5,x,y)"
     ],
     "language": "python",
     "metadata": {},
     "outputs": [
      {
       "ename": "TypeError",
       "evalue": "'builtin_function_or_method' object has no attribute '__getitem__'",
       "output_type": "pyerr",
       "traceback": [
        "\u001b[1;31m---------------------------------------------------------------------------\u001b[0m\n\u001b[1;31mTypeError\u001b[0m                                 Traceback (most recent call last)",
        "\u001b[1;32m<ipython-input-5-1a872e738a5e>\u001b[0m in \u001b[0;36m<module>\u001b[1;34m()\u001b[0m\n\u001b[0;32m      1\u001b[0m \u001b[1;32mimport\u001b[0m \u001b[0mmatplotlib\u001b[0m\u001b[1;33m.\u001b[0m\u001b[0mpyplot\u001b[0m \u001b[1;32mas\u001b[0m \u001b[0mplt\u001b[0m\u001b[1;33m\u001b[0m\u001b[0m\n\u001b[1;32m----> 2\u001b[1;33m \u001b[0mx\u001b[0m\u001b[1;33m=\u001b[0m\u001b[0mnp\u001b[0m\u001b[1;33m.\u001b[0m\u001b[0marray\u001b[0m\u001b[1;33m[\u001b[0m\u001b[1;36m1\u001b[0m\u001b[1;33m,\u001b[0m\u001b[1;36m2\u001b[0m\u001b[1;33m,\u001b[0m\u001b[1;36m3\u001b[0m\u001b[1;33m]\u001b[0m\u001b[1;33m\u001b[0m\u001b[0m\n\u001b[0m\u001b[0;32m      3\u001b[0m \u001b[0my\u001b[0m\u001b[1;33m=\u001b[0m\u001b[0mnp\u001b[0m\u001b[1;33m.\u001b[0m\u001b[0marray\u001b[0m\u001b[1;33m[\u001b[0m\u001b[1;36m1\u001b[0m\u001b[1;33m,\u001b[0m\u001b[1;36m2\u001b[0m\u001b[1;33m,\u001b[0m\u001b[1;36m3\u001b[0m\u001b[1;33m]\u001b[0m\u001b[1;33m\u001b[0m\u001b[0m\n\u001b[0;32m      4\u001b[0m \u001b[0mplot\u001b[0m\u001b[1;33m(\u001b[0m\u001b[1;36m2.5\u001b[0m\u001b[1;33m,\u001b[0m\u001b[0mx\u001b[0m\u001b[1;33m,\u001b[0m\u001b[0my\u001b[0m\u001b[1;33m)\u001b[0m\u001b[1;33m\u001b[0m\u001b[0m\n",
        "\u001b[1;31mTypeError\u001b[0m: 'builtin_function_or_method' object has no attribute '__getitem__'"
       ]
      }
     ],
     "prompt_number": 5
    },
    {
     "cell_type": "code",
     "collapsed": false,
     "input": [
      "from scipy.interpolate import interp1d"
     ],
     "language": "python",
     "metadata": {},
     "outputs": [
      {
       "ename": "ImportError",
       "evalue": "No module named scipy.interpolate",
       "output_type": "pyerr",
       "traceback": [
        "\u001b[1;31m---------------------------------------------------------------------------\u001b[0m\n\u001b[1;31mImportError\u001b[0m                               Traceback (most recent call last)",
        "\u001b[1;32m<ipython-input-6-5977d52fd447>\u001b[0m in \u001b[0;36m<module>\u001b[1;34m()\u001b[0m\n\u001b[1;32m----> 1\u001b[1;33m \u001b[1;32mfrom\u001b[0m \u001b[0mscipy\u001b[0m\u001b[1;33m.\u001b[0m\u001b[0minterpolate\u001b[0m \u001b[1;32mimport\u001b[0m \u001b[0minterp1d\u001b[0m\u001b[1;33m\u001b[0m\u001b[0m\n\u001b[0m",
        "\u001b[1;31mImportError\u001b[0m: No module named scipy.interpolate"
       ]
      }
     ],
     "prompt_number": 6
    },
    {
     "cell_type": "code",
     "collapsed": false,
     "input": [
      "len('ha000000000000000_00000000000000f_0000000000000000_0000000000000000')"
     ],
     "language": "python",
     "metadata": {},
     "outputs": [
      {
       "metadata": {},
       "output_type": "pyout",
       "prompt_number": 11,
       "text": [
        "63"
       ]
      }
     ],
     "prompt_number": 11
    },
    {
     "cell_type": "code",
     "collapsed": false,
     "input": [
      "len('00000000000000f')"
     ],
     "language": "python",
     "metadata": {},
     "outputs": [
      {
       "metadata": {},
       "output_type": "pyout",
       "prompt_number": 12,
       "text": [
        "15"
       ]
      }
     ],
     "prompt_number": 12
    },
    {
     "cell_type": "code",
     "collapsed": false,
     "input": [],
     "language": "python",
     "metadata": {},
     "outputs": []
    },
    {
     "cell_type": "code",
     "collapsed": false,
     "input": [
      "hex(40\n",
      "    )"
     ],
     "language": "python",
     "metadata": {},
     "outputs": [
      {
       "metadata": {},
       "output_type": "pyout",
       "prompt_number": 14,
       "text": [
        "'0x28'"
       ]
      }
     ],
     "prompt_number": 14
    },
    {
     "cell_type": "code",
     "collapsed": false,
     "input": [],
     "language": "python",
     "metadata": {},
     "outputs": []
    }
   ],
   "metadata": {}
  }
 ]
}
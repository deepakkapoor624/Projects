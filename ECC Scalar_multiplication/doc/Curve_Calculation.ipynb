{
 "metadata": {
  "name": "",
  "signature": "sha256:4f09f0974d9a880c0a217eb3f0f6f80613c491fb62a07e833bb6fc9bb5134be1"
 },
 "nbformat": 3,
 "nbformat_minor": 0,
 "worksheets": [
  {
   "cells": [
    {
     "cell_type": "code",
     "collapsed": false,
     "input": [
      "import numpy as np\n",
      "a=np.array([0,1,2,0,0,0,0,0,1])\n",
      "print a"
     ],
     "language": "python",
     "metadata": {},
     "outputs": [
      {
       "output_type": "stream",
       "stream": "stdout",
       "text": [
        "[0 1 2 0 0 0 0 0 1]\n"
       ]
      }
     ],
     "prompt_number": 3
    },
    {
     "cell_type": "code",
     "collapsed": false,
     "input": [
      "np.nonzero(a)71 0a 02 09 01"
     ],
     "language": "python",
     "metadata": {},
     "outputs": [
      {
       "metadata": {},
       "output_type": "pyout",
       "prompt_number": 4,
       "text": [
        "(array([1, 2, 8]),)"
       ]
      }
     ],
     "prompt_number": 4
    },
    {
     "cell_type": "code",
     "collapsed": false,
     "input": [
      "import binascii\n",
      "import numpy as np\n",
      "import gmpy2\n",
      "\n",
      "np.set_printoptions(formatter={'int':hex})\n",
      "\n",
      "def remove_0( A):\n",
      "        while A[0] == 0:\n",
      "            if len(A) == 1:\n",
      "                break\n",
      "            A = A[1:]\n",
      "        return A\n",
      "def str2nparray( A):\n",
      "        A = '0'*(8 - len(A)%8) + A\n",
      "        A = binascii.unhexlify(A)\n",
      "        A = np.fromstring(A[::-1], dtype='uint32') \n",
      "        return A\n",
      "\n",
      "    \n",
      "def nparray2str2( A):\n",
      "        c = ''\n",
      "        d = A.view('uint8')\n",
      "        for i in d:\n",
      "            c+=binascii.hexlify(i)\n",
      "        return c \n",
      "Polynomial='0800000000000000000000000000000000000000c9'\n",
      "def Curve_Calculation(Polynomial):    \n",
      "    Curve_Polynomial=np.array([],dtype='uint8')    \n",
      "    Polynomial=str2nparray(Polynomial)\n",
      "    Curve_len=(len(Polynomial)-1)*32+gmpy2.bit_length(int(Polynomial[-1]))-1\n",
      "    D=Polynomial.view('uint8')[::-1]\n",
      "    D=remove_0(D)\n",
      "    position=np.nonzero(D)\n",
      "    print position\n",
      "    position=position[0]\n",
      "    print len(position)\n",
      "    secnd_chunk=0x00\n",
      "    secnd_position=0x00\n",
      "    frst_chunk=D[position[1]]\n",
      "    frst_position=(position[1]/8)*8+7-(position[1]%8)\n",
      "\n",
      "    if(len(position)==3):\n",
      "        secnd_chunk=D[position[2]]\n",
      "        secnd_position=(position[2]/8)*8+7-(position[2]%8)\n",
      "    Curve_Polynomial=np.array([Curve_len,frst_position,frst_chunk,secnd_position,secnd_chunk],dtype='uint8')\n",
      "    Curve_Polynomial=nparray2str2(Curve_Polynomial)\n",
      "    print Curve_Polynomial\n",
      "    return Curve_Polynomial"
     ],
     "language": "python",
     "metadata": {},
     "outputs": [],
     "prompt_number": 9
    },
    {
     "cell_type": "code",
     "collapsed": false,
     "input": [
      "Polynomial='\n",
      "0800000000000000 \n",
      "0000000000000000 \n",
      "00000000c9 000000'\n",
      "Curve_Calculation(Polynomial)"
     ],
     "language": "python",
     "metadata": {},
     "outputs": [
      {
       "output_type": "stream",
       "stream": "stdout",
       "text": [
        "(array([0x0L, 0x14L]),)\n",
        "2\n",
        "a313c90000\n"
       ]
      },
      {
       "metadata": {},
       "output_type": "pyout",
       "prompt_number": 10,
       "text": [
        "'a313c90000'"
       ]
      }
     ],
     "prompt_number": 10
    },
    {
     "cell_type": "code",
     "collapsed": false,
     "input": [
      "a = np.array([1 , 2])\n",
      "b = np.array([1 , 2])\n",
      "a=np.concatenate([a,b],axis=0)\n",
      "print a"
     ],
     "language": "python",
     "metadata": {},
     "outputs": [
      {
       "output_type": "stream",
       "stream": "stdout",
       "text": [
        "[0x1L 0x2L 0x1L 0x2L]\n"
       ]
      }
     ],
     "prompt_number": 49
    },
    {
     "cell_type": "code",
     "collapsed": false,
     "input": [
      "hex(163)"
     ],
     "language": "python",
     "metadata": {},
     "outputs": [
      {
       "metadata": {},
       "output_type": "pyout",
       "prompt_number": 12,
       "text": [
        "'0xa3'"
       ]
      }
     ],
     "prompt_number": 12
    },
    {
     "cell_type": "code",
     "collapsed": false,
     "input": [],
     "language": "python",
     "metadata": {},
     "outputs": []
    }
   ],
   "metadata": {}
  }
 ]
}